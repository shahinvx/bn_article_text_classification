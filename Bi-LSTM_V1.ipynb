{
 "cells": [
  {
   "cell_type": "code",
   "execution_count": null,
   "metadata": {
    "colab": {
     "base_uri": "https://localhost:8080/"
    },
    "executionInfo": {
     "elapsed": 1091,
     "status": "ok",
     "timestamp": 1634619586276,
     "user": {
      "displayName": "Md. Mahmudul Hasan Shahin",
      "photoUrl": "https://lh3.googleusercontent.com/a-/AOh14GhRx95iiEiz_iqtQvGSnh1i2sStbv9xjQgHDQcM=s64",
      "userId": "04675764273122559940"
     },
     "user_tz": -360
    },
    "id": "iJY0OuOIMMDg",
    "outputId": "61ccb56f-dab9-44cc-98c1-34e4b5197e4f"
   },
   "outputs": [
    {
     "name": "stdout",
     "output_type": "stream",
     "text": [
      "/content/drive/MyDrive/Google Colab/NLP/Technometrics\n",
      "Bi-LSTM_Train.ipynb         file_hist.json\n",
      "Bi-LSTM_Ult.ipynb           Predict_Text.ipynb\n",
      "Classification_Algo.ipynb   \u001b[0m\u001b[01;34mPretrained_Models\u001b[0m/\n",
      "Classifier_Perdormance.csv  \u001b[01;34mProcess_Data\u001b[0m/\n",
      "\u001b[01;34mDataset\u001b[0m/                    \u001b[01;34mSaved_Model\u001b[0m/\n",
      "External.ipynb              Technometrics_Preprocessing.ipynb\n",
      "file_hist_2.json\n"
     ]
    }
   ],
   "source": [
    "%%script false\n",
    "%cd /content/drive/MyDrive/Google Colab/NLP/Technometrics\n",
    "%ls"
   ]
  },
  {
   "cell_type": "code",
   "execution_count": null,
   "metadata": {
    "id": "Z3fT260YMtio"
   },
   "outputs": [],
   "source": [
    "import pandas as pd\n",
    "import numpy as np\n",
    "from statistics import mean, mode, median\n",
    "import re\n",
    "\n",
    "import seaborn as sns\n",
    "import matplotlib.pyplot as plt\n",
    "sns.set_theme(style=\"ticks\", color_codes=True)\n",
    "\n",
    "from gensim.models import FastText\n",
    "from sklearn.model_selection import train_test_split\n",
    "\n",
    "import tensorflow as tf\n",
    "from keras.models import Sequential, Model\n",
    "from keras.layers import Dense, Input, Flatten, Bidirectional, Dropout\n",
    "from tensorflow.keras.optimizers import Adam, SGD\n",
    "from keras import Model \n",
    "from keras.layers.recurrent import LSTM\n",
    "\n",
    "%matplotlib inline"
   ]
  },
  {
   "cell_type": "code",
   "execution_count": null,
   "metadata": {
    "id": "4Dh6Zv6CMcCg"
   },
   "outputs": [],
   "source": [
    "train_category = np.load('Process_Data/train_category.npy')\n",
    "train_cleanText = np.load('Process_Data/train_cleanText.npy')\n",
    "\n",
    "test_category = np.load('Process_Data/test_category.npy')\n",
    "test_cleanText = np.load('Process_Data/test_cleanText.npy')"
   ]
  },
  {
   "cell_type": "code",
   "execution_count": null,
   "metadata": {
    "colab": {
     "base_uri": "https://localhost:8080/"
    },
    "executionInfo": {
     "elapsed": 17,
     "status": "ok",
     "timestamp": 1634572023053,
     "user": {
      "displayName": "Md. Mahmudul Hasan Shahin",
      "photoUrl": "https://lh3.googleusercontent.com/a-/AOh14GhRx95iiEiz_iqtQvGSnh1i2sStbv9xjQgHDQcM=s64",
      "userId": "04675764273122559940"
     },
     "user_tz": -360
    },
    "id": "GFsqkIVEMriY",
    "outputId": "07bc7ad2-f6d9-46d6-cbf5-6b21ae59ebc8"
   },
   "outputs": [
    {
     "name": "stdout",
     "output_type": "stream",
     "text": [
      "=============================================\n",
      "                Train Data\n",
      "=============================================\n",
      "Shape of Train Text     :  (90118, 350, 20)\n",
      "Shape of Train Category :  (90118, 7)\n",
      "=============================================\n",
      "\n",
      "                Test Data\n",
      "=============================================\n",
      "Shape of Test Text      :  (90233, 350, 20)\n",
      "Shape of Test Category  :  (90233, 7)\n"
     ]
    }
   ],
   "source": [
    "print('=============================================')\n",
    "print('                Train Data')\n",
    "print('=============================================')\n",
    "print('Shape of Train Text     : ',np.shape(train_cleanText))\n",
    "print('Shape of Train Category : ',np.shape(train_category))\n",
    "print('=============================================')\n",
    "print('\\n                Test Data')\n",
    "print('=============================================')\n",
    "print('Shape of Test Text      : ',np.shape(test_cleanText))\n",
    "print('Shape of Test Category  : ',np.shape(test_category))"
   ]
  },
  {
   "cell_type": "code",
   "execution_count": null,
   "metadata": {
    "colab": {
     "base_uri": "https://localhost:8080/"
    },
    "executionInfo": {
     "elapsed": 1960,
     "status": "ok",
     "timestamp": 1634572026253,
     "user": {
      "displayName": "Md. Mahmudul Hasan Shahin",
      "photoUrl": "https://lh3.googleusercontent.com/a-/AOh14GhRx95iiEiz_iqtQvGSnh1i2sStbv9xjQgHDQcM=s64",
      "userId": "04675764273122559940"
     },
     "user_tz": -360
    },
    "id": "qZMjHB0woNmL",
    "outputId": "0f48fcea-5c05-4817-8d04-7efb847f2aa2"
   },
   "outputs": [
    {
     "data": {
      "text/plain": [
       "array([[ 8.143771  ,  3.200562  , -2.6945043 , ...,  8.069185  ,\n",
       "        -0.7621708 , -6.6651444 ],\n",
       "       [-1.5999174 ,  7.5781484 , -0.4735332 , ...,  8.359903  ,\n",
       "        -0.67922145,  1.5229594 ],\n",
       "       [ 2.461376  ,  1.7275422 , -0.2979339 , ...,  1.2472659 ,\n",
       "        -1.4450709 , -2.1182125 ],\n",
       "       ...,\n",
       "       [ 0.        ,  0.        ,  0.        , ...,  0.        ,\n",
       "         0.        ,  0.        ],\n",
       "       [ 0.        ,  0.        ,  0.        , ...,  0.        ,\n",
       "         0.        ,  0.        ],\n",
       "       [ 0.        ,  0.        ,  0.        , ...,  0.        ,\n",
       "         0.        ,  0.        ]], dtype=float32)"
      ]
     },
     "execution_count": 5,
     "metadata": {},
     "output_type": "execute_result"
    }
   ],
   "source": [
    "test_cleanText[0]"
   ]
  },
  {
   "cell_type": "code",
   "execution_count": null,
   "metadata": {
    "colab": {
     "base_uri": "https://localhost:8080/"
    },
    "executionInfo": {
     "elapsed": 15808630,
     "status": "ok",
     "timestamp": 1634587837968,
     "user": {
      "displayName": "Md. Mahmudul Hasan Shahin",
      "photoUrl": "https://lh3.googleusercontent.com/a-/AOh14GhRx95iiEiz_iqtQvGSnh1i2sStbv9xjQgHDQcM=s64",
      "userId": "04675764273122559940"
     },
     "user_tz": -360
    },
    "id": "nfG84ywjZfxB",
    "outputId": "2bdf75ce-30f3-4343-fbd3-f8077827a93a"
   },
   "outputs": [
    {
     "name": "stdout",
     "output_type": "stream",
     "text": [
      "Train...\n",
      "Epoch 1/4\n",
      "9012/9012 [==============================] - 3927s 435ms/step - loss: 0.9166 - accuracy: 0.7006 - val_loss: 0.5384 - val_accuracy: 0.8316\n",
      "Epoch 2/4\n",
      "9012/9012 [==============================] - 3952s 438ms/step - loss: 0.6798 - accuracy: 0.7962 - val_loss: 0.5112 - val_accuracy: 0.8416\n",
      "Epoch 3/4\n",
      "9012/9012 [==============================] - 3946s 438ms/step - loss: 0.6387 - accuracy: 0.8119 - val_loss: 0.4617 - val_accuracy: 0.8560\n",
      "Epoch 4/4\n",
      "9012/9012 [==============================] - 3936s 437ms/step - loss: 0.6140 - accuracy: 0.8196 - val_loss: 0.4786 - val_accuracy: 0.8511\n"
     ]
    }
   ],
   "source": [
    "model = Sequential()\n",
    "model.add(Bidirectional(LSTM(15)))\n",
    "model.add(Dropout(0.5))\n",
    "model.add(Dense(7, activation='softmax'))\n",
    "\n",
    "model.compile('adam', 'categorical_crossentropy', metrics=['accuracy'])\n",
    "print('Train...')\n",
    "history = model.fit(train_cleanText, train_category,\n",
    "          batch_size=10,\n",
    "          epochs=4,\n",
    "          validation_data=(test_cleanText, test_category))"
   ]
  },
  {
   "cell_type": "code",
   "execution_count": null,
   "metadata": {
    "id": "ZkmXgvnRmigc"
   },
   "outputs": [],
   "source": [
    "model.save('Saved_Model/Biderectional.h5')\n",
    "np.save('Saved_Model/Biderectional_hist_h5_2.npy', history.history)"
   ]
  },
  {
   "cell_type": "markdown",
   "metadata": {
    "id": "sSc8UaSG6yH_"
   },
   "source": [
    "# Performance of Model"
   ]
  },
  {
   "cell_type": "code",
   "execution_count": null,
   "metadata": {
    "id": "YyvmoyiIUiaO"
   },
   "outputs": [],
   "source": [
    "history = np.load('Saved_Model/Biderectional_hist_h5_2.npy',allow_pickle=True).tolist()"
   ]
  },
  {
   "cell_type": "code",
   "execution_count": null,
   "metadata": {
    "colab": {
     "base_uri": "https://localhost:8080/",
     "height": 322
    },
    "executionInfo": {
     "elapsed": 542,
     "status": "ok",
     "timestamp": 1634619606983,
     "user": {
      "displayName": "Md. Mahmudul Hasan Shahin",
      "photoUrl": "https://lh3.googleusercontent.com/a-/AOh14GhRx95iiEiz_iqtQvGSnh1i2sStbv9xjQgHDQcM=s64",
      "userId": "04675764273122559940"
     },
     "user_tz": -360
    },
    "id": "DchbjH1664A2",
    "outputId": "8e54529c-98b9-42c4-c2b2-151601281519"
   },
   "outputs": [
    {
     "data": {
      "image/png": "[encoded data removed]",
      "text/plain": [
       "<Figure size 576x360 with 1 Axes>"
      ]
     },
     "metadata": {
      "needs_background": "light"
     },
     "output_type": "display_data"
    }
   ],
   "source": [
    "pd.DataFrame(history).plot(figsize=(8,5))\n",
    "plt.show()"
   ]
  },
  {
   "cell_type": "code",
   "execution_count": null,
   "metadata": {
    "colab": {
     "base_uri": "https://localhost:8080/",
     "height": 301
    },
    "executionInfo": {
     "elapsed": 538,
     "status": "ok",
     "timestamp": 1634619613117,
     "user": {
      "displayName": "Md. Mahmudul Hasan Shahin",
      "photoUrl": "https://lh3.googleusercontent.com/a-/AOh14GhRx95iiEiz_iqtQvGSnh1i2sStbv9xjQgHDQcM=s64",
      "userId": "04675764273122559940"
     },
     "user_tz": -360
    },
    "id": "lg632_nC68OG",
    "outputId": "049d8182-5d37-482f-9192-0ac5925fe8aa"
   },
   "outputs": [
    {
     "data": {
      "image/png": "[encoded data removed]",
      "text/plain": [
       "<Figure size 432x288 with 1 Axes>"
      ]
     },
     "metadata": {
      "needs_background": "light"
     },
     "output_type": "display_data"
    }
   ],
   "source": [
    "plt.plot(history['accuracy'])\n",
    "plt.plot(history['val_accuracy'])\n",
    "plt.title('Model Accuracy')\n",
    "plt.ylabel('accuracy')\n",
    "plt.xlabel('epoch')\n",
    "plt.legend(['train', 'val'], loc='upper left')\n",
    "plt.show()"
   ]
  },
  {
   "cell_type": "code",
   "execution_count": null,
   "metadata": {
    "colab": {
     "base_uri": "https://localhost:8080/",
     "height": 301
    },
    "executionInfo": {
     "elapsed": 521,
     "status": "ok",
     "timestamp": 1634619620485,
     "user": {
      "displayName": "Md. Mahmudul Hasan Shahin",
      "photoUrl": "https://lh3.googleusercontent.com/a-/AOh14GhRx95iiEiz_iqtQvGSnh1i2sStbv9xjQgHDQcM=s64",
      "userId": "04675764273122559940"
     },
     "user_tz": -360
    },
    "id": "Fa6OMJ2969vG",
    "outputId": "9298026a-4182-471d-9551-81555921f84b"
   },
   "outputs": [
    {
     "data": {
      "image/png": "[encoded data removed]",
      "text/plain": [
       "<Figure size 432x288 with 1 Axes>"
      ]
     },
     "metadata": {
      "needs_background": "light"
     },
     "output_type": "display_data"
    }
   ],
   "source": [
    "plt.plot(history['loss'])\n",
    "plt.plot(history['val_loss'])\n",
    "plt.title('Model Loss')\n",
    "plt.ylabel('loss')\n",
    "plt.xlabel('epoch')\n",
    "plt.legend(['train', 'val'], loc='upper left')\n",
    "plt.show()"
   ]
  },
  {
   "cell_type": "code",
   "execution_count": null,
   "metadata": {
    "id": "JBB5ALGA6_hf"
   },
   "outputs": [],
   "source": []
  }
 ],
 "metadata": {
  "colab": {
   "authorship_tag": "ABX9TyPeToRkc2deMVTnHibBiYiQ",
   "mount_file_id": "1MLSGtomyK4rhfUr_qkx3r1NJ_N1g0E8t",
   "name": "Bi-LSTM_V1.ipynb",
   "provenance": []
  },
  "kernelspec": {
   "display_name": "Python 3",
   "language": "python",
   "name": "python3"
  },
  "language_info": {
   "codemirror_mode": {
    "name": "ipython",
    "version": 3
   },
   "file_extension": ".py",
   "mimetype": "text/x-python",
   "name": "python",
   "nbconvert_exporter": "python",
   "pygments_lexer": "ipython3",
   "version": "3.8.8"
  }
 },
 "nbformat": 4,
 "nbformat_minor": 4
}
