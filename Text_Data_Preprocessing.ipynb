{
 "cells": [
  {
   "cell_type": "code",
   "execution_count": null,
   "metadata": {
    "colab": {
     "base_uri": "https://localhost:8080/"
    },
    "executionInfo": {
     "elapsed": 996,
     "status": "ok",
     "timestamp": 1634648503680,
     "user": {
      "displayName": "Md. Mahmudul Hasan Shahin",
      "photoUrl": "https://lh3.googleusercontent.com/a-/AOh14GhRx95iiEiz_iqtQvGSnh1i2sStbv9xjQgHDQcM=s64",
      "userId": "04675764273122559940"
     },
     "user_tz": -360
    },
    "id": "xBGpZmuUrWhQ",
    "outputId": "e6773e3c-99c1-4b99-d09c-cd141d1b3c09"
   },
   "outputs": [
    {
     "name": "stdout",
     "output_type": "stream",
     "text": [
      "/content/drive/MyDrive/Google Colab/NLP/Technometrics\n"
     ]
    }
   ],
   "source": [
    "%%script false\n",
    "%cd /content/drive/MyDrive/Google Colab/NLP/Technometrics"
   ]
  },
  {
   "cell_type": "code",
   "execution_count": null,
   "metadata": {
    "id": "2nmhY1BmvRZX"
   },
   "outputs": [],
   "source": [
    "import pandas as pd\n",
    "import numpy as np\n",
    "from statistics import mean, mode, median\n",
    "import re\n",
    "\n",
    "import seaborn as sns\n",
    "import matplotlib.pyplot as plt\n",
    "sns.set_theme(style=\"ticks\", color_codes=True)\n",
    "\n",
    "from gensim.models import FastText\n",
    "%matplotlib inline"
   ]
  },
  {
   "cell_type": "code",
   "execution_count": null,
   "metadata": {
    "id": "e1YcLZojtBGN"
   },
   "outputs": [],
   "source": [
    "raw_train_data = pd.read_csv('Dataset/train.csv')\n",
    "raw_test_data = pd.read_csv('Dataset/test.csv')"
   ]
  },
  {
   "cell_type": "code",
   "execution_count": null,
   "metadata": {
    "colab": {
     "base_uri": "https://localhost:8080/"
    },
    "executionInfo": {
     "elapsed": 26,
     "status": "ok",
     "timestamp": 1634648543297,
     "user": {
      "displayName": "Md. Mahmudul Hasan Shahin",
      "photoUrl": "https://lh3.googleusercontent.com/a-/AOh14GhRx95iiEiz_iqtQvGSnh1i2sStbv9xjQgHDQcM=s64",
      "userId": "04675764273122559940"
     },
     "user_tz": -360
    },
    "id": "0iXFYZhjvRUV",
    "outputId": "c779c770-b4cb-439e-cbed-95731de7306f"
   },
   "outputs": [
    {
     "name": "stdout",
     "output_type": "stream",
     "text": [
      "98883\n",
      "98884\n"
     ]
    }
   ],
   "source": [
    "print(len(raw_train_data))\n",
    "print(len(raw_test_data))"
   ]
  },
  {
   "cell_type": "markdown",
   "metadata": {
    "id": "Y8smNsJqAtW9"
   },
   "source": [
    "#Test Data Analysis"
   ]
  },
  {
   "cell_type": "code",
   "execution_count": null,
   "metadata": {
    "colab": {
     "base_uri": "https://localhost:8080/",
     "height": 204
    },
    "executionInfo": {
     "elapsed": 21,
     "status": "ok",
     "timestamp": 1634648543300,
     "user": {
      "displayName": "Md. Mahmudul Hasan Shahin",
      "photoUrl": "https://lh3.googleusercontent.com/a-/AOh14GhRx95iiEiz_iqtQvGSnh1i2sStbv9xjQgHDQcM=s64",
      "userId": "04675764273122559940"
     },
     "user_tz": -360
    },
    "id": "F3SsoFOSvqDF",
    "outputId": "e16591c0-f85f-4caf-ac01-6a42828daa23"
   },
   "outputs": [
    {
     "data": {
      "text/html": [
       "<div>\n",
       "<style scoped>\n",
       "    .dataframe tbody tr th:only-of-type {\n",
       "        vertical-align: middle;\n",
       "    }\n",
       "\n",
       "    .dataframe tbody tr th {\n",
       "        vertical-align: top;\n",
       "    }\n",
       "\n",
       "    .dataframe thead th {\n",
       "        text-align: right;\n",
       "    }\n",
       "</style>\n",
       "<table border=\"1\" class=\"dataframe\">\n",
       "  <thead>\n",
       "    <tr style=\"text-align: right;\">\n",
       "      <th></th>\n",
       "      <th>category</th>\n",
       "      <th>text</th>\n",
       "      <th>cleanText</th>\n",
       "    </tr>\n",
       "  </thead>\n",
       "  <tbody>\n",
       "    <tr>\n",
       "      <th>0</th>\n",
       "      <td>education</td>\n",
       "      <td>অধ্যায়-২প্রিয় পরীক্ষার্থী, আজ তথ্য ও যোগাযোগ প...</td>\n",
       "      <td>অধ্যায়    প্রিয়    পরীক্ষার্থী    তথ্য    যো...</td>\n",
       "    </tr>\n",
       "    <tr>\n",
       "      <th>1</th>\n",
       "      <td>sports</td>\n",
       "      <td>স্পিন, স্পিন, স্পিন। লর্ডসে ইয়াসির শাহ্‌র লেগ ...</td>\n",
       "      <td>স্পিন    স্পিন    স্পিন    লর্ডসে    ইয়াসির ...</td>\n",
       "    </tr>\n",
       "    <tr>\n",
       "      <th>2</th>\n",
       "      <td>international</td>\n",
       "      <td>সিরিয়ার উত্তর-পশ্চিমাঞ্চলে গতকাল রোববার বিমান...</td>\n",
       "      <td>সিরিয়ার    উত্তর    পশ্চিমাঞ্চলে    গতকাল  ...</td>\n",
       "    </tr>\n",
       "    <tr>\n",
       "      <th>3</th>\n",
       "      <td>international</td>\n",
       "      <td>দক্ষিণ আফ্রিকার কেপটাউন বিশ্ববিদ্যালয়ের (ইউসিট...</td>\n",
       "      <td>দক্ষিণ    আফ্রিকার    কেপটাউন    বিশ্ববিদ্যা...</td>\n",
       "    </tr>\n",
       "    <tr>\n",
       "      <th>4</th>\n",
       "      <td>technology</td>\n",
       "      <td>সহজে ডিজিটাল আর্থিক সেবা দিতে অ্যাপ ও ডিজিটাল ...</td>\n",
       "      <td>সহজে    ডিজিটাল    আর্থিক    সেবা    অ্যাপ  ...</td>\n",
       "    </tr>\n",
       "  </tbody>\n",
       "</table>\n",
       "</div>"
      ],
      "text/plain": [
       "        category  ...                                          cleanText\n",
       "0      education  ...    অধ্যায়    প্রিয়    পরীক্ষার্থী    তথ্য    যো...\n",
       "1         sports  ...    স্পিন    স্পিন    স্পিন    লর্ডসে    ইয়াসির ...\n",
       "2  international  ...    সিরিয়ার    উত্তর    পশ্চিমাঞ্চলে    গতকাল  ...\n",
       "3  international  ...    দক্ষিণ    আফ্রিকার    কেপটাউন    বিশ্ববিদ্যা...\n",
       "4     technology  ...    সহজে    ডিজিটাল    আর্থিক    সেবা    অ্যাপ  ...\n",
       "\n",
       "[5 rows x 3 columns]"
      ]
     },
     "execution_count": 5,
     "metadata": {},
     "output_type": "execute_result"
    }
   ],
   "source": [
    "raw_test_data.head()"
   ]
  },
  {
   "cell_type": "code",
   "execution_count": null,
   "metadata": {
    "colab": {
     "base_uri": "https://localhost:8080/"
    },
    "executionInfo": {
     "elapsed": 17,
     "status": "ok",
     "timestamp": 1634648543300,
     "user": {
      "displayName": "Md. Mahmudul Hasan Shahin",
      "photoUrl": "https://lh3.googleusercontent.com/a-/AOh14GhRx95iiEiz_iqtQvGSnh1i2sStbv9xjQgHDQcM=s64",
      "userId": "04675764273122559940"
     },
     "user_tz": -360
    },
    "id": "YanKax7RyaGU",
    "outputId": "025f83cc-c3bd-4d6b-b3d4-fd344367a334"
   },
   "outputs": [
    {
     "name": "stdout",
     "output_type": "stream",
     "text": [
      "Maximum length of given Clean Text :  54766\n",
      "Minimum length of given Clean Text :  9\n",
      "Average length of given Clean Text :  1830.12\n",
      "Average length of given Clean Text :  429\n"
     ]
    }
   ],
   "source": [
    "print('Maximum length of given Clean Text : ',max(len(x) for x in raw_test_data['cleanText']))\n",
    "print('Minimum length of given Clean Text : ',min(len(x) for x in raw_test_data['cleanText']))\n",
    "print(\"Average length of given Clean Text :  {:.2f}\".format(mean(len(x) for x in raw_test_data['cleanText'])))\n",
    "print('Average length of given Clean Text : ',mode(len(x) for x in raw_test_data['cleanText']))"
   ]
  },
  {
   "cell_type": "code",
   "execution_count": null,
   "metadata": {
    "colab": {
     "base_uri": "https://localhost:8080/",
     "height": 173
    },
    "executionInfo": {
     "elapsed": 859,
     "status": "ok",
     "timestamp": 1634648544146,
     "user": {
      "displayName": "Md. Mahmudul Hasan Shahin",
      "photoUrl": "https://lh3.googleusercontent.com/a-/AOh14GhRx95iiEiz_iqtQvGSnh1i2sStbv9xjQgHDQcM=s64",
      "userId": "04675764273122559940"
     },
     "user_tz": -360
    },
    "id": "k9dtsOv51ThW",
    "outputId": "5b257092-0ca0-41e0-b362-279eb92a8e59"
   },
   "outputs": [
    {
     "data": {
      "text/html": [
       "<div>\n",
       "<style scoped>\n",
       "    .dataframe tbody tr th:only-of-type {\n",
       "        vertical-align: middle;\n",
       "    }\n",
       "\n",
       "    .dataframe tbody tr th {\n",
       "        vertical-align: top;\n",
       "    }\n",
       "\n",
       "    .dataframe thead th {\n",
       "        text-align: right;\n",
       "    }\n",
       "</style>\n",
       "<table border=\"1\" class=\"dataframe\">\n",
       "  <thead>\n",
       "    <tr style=\"text-align: right;\">\n",
       "      <th></th>\n",
       "      <th>category</th>\n",
       "      <th>text</th>\n",
       "      <th>cleanText</th>\n",
       "    </tr>\n",
       "  </thead>\n",
       "  <tbody>\n",
       "    <tr>\n",
       "      <th>count</th>\n",
       "      <td>98884</td>\n",
       "      <td>98884</td>\n",
       "      <td>98884</td>\n",
       "    </tr>\n",
       "    <tr>\n",
       "      <th>unique</th>\n",
       "      <td>7</td>\n",
       "      <td>98384</td>\n",
       "      <td>97880</td>\n",
       "    </tr>\n",
       "    <tr>\n",
       "      <th>top</th>\n",
       "      <td>sports</td>\n",
       "      <td>প্রিয় শিক্ষার্থী বন্ধুরা, তোমাদের হাতে আঁকা র...</td>\n",
       "      <td>প্রিয়    শিক্ষার্থী    বন্ধুরা    তোমাদের   ...</td>\n",
       "    </tr>\n",
       "    <tr>\n",
       "      <th>freq</th>\n",
       "      <td>15883</td>\n",
       "      <td>30</td>\n",
       "      <td>31</td>\n",
       "    </tr>\n",
       "  </tbody>\n",
       "</table>\n",
       "</div>"
      ],
      "text/plain": [
       "       category  ...                                          cleanText\n",
       "count     98884  ...                                              98884\n",
       "unique        7  ...                                              97880\n",
       "top      sports  ...    প্রিয়    শিক্ষার্থী    বন্ধুরা    তোমাদের   ...\n",
       "freq      15883  ...                                                 31\n",
       "\n",
       "[4 rows x 3 columns]"
      ]
     },
     "execution_count": 7,
     "metadata": {},
     "output_type": "execute_result"
    }
   ],
   "source": [
    "raw_test_data.describe()"
   ]
  },
  {
   "cell_type": "code",
   "execution_count": null,
   "metadata": {
    "colab": {
     "base_uri": "https://localhost:8080/"
    },
    "executionInfo": {
     "elapsed": 13,
     "status": "ok",
     "timestamp": 1634648544147,
     "user": {
      "displayName": "Md. Mahmudul Hasan Shahin",
      "photoUrl": "https://lh3.googleusercontent.com/a-/AOh14GhRx95iiEiz_iqtQvGSnh1i2sStbv9xjQgHDQcM=s64",
      "userId": "04675764273122559940"
     },
     "user_tz": -360
    },
    "id": "XwKZmdAU9ufH",
    "outputId": "54ea9395-64a2-412c-840d-dbce11296368"
   },
   "outputs": [
    {
     "data": {
      "text/plain": [
       "sports           15883\n",
       "international    15314\n",
       "entertainment    15261\n",
       "state            15183\n",
       "economy          14488\n",
       "education        12818\n",
       "technology        9937\n",
       "Name: category, dtype: int64"
      ]
     },
     "execution_count": 8,
     "metadata": {},
     "output_type": "execute_result"
    }
   ],
   "source": [
    "raw_test_data['category'].value_counts()"
   ]
  },
  {
   "cell_type": "code",
   "execution_count": null,
   "metadata": {
    "colab": {
     "base_uri": "https://localhost:8080/",
     "height": 355
    },
    "executionInfo": {
     "elapsed": 772,
     "status": "ok",
     "timestamp": 1634648544911,
     "user": {
      "displayName": "Md. Mahmudul Hasan Shahin",
      "photoUrl": "https://lh3.googleusercontent.com/a-/AOh14GhRx95iiEiz_iqtQvGSnh1i2sStbv9xjQgHDQcM=s64",
      "userId": "04675764273122559940"
     },
     "user_tz": -360
    },
    "id": "j8FVbbjg6e0Y",
    "outputId": "0cab4d3b-27eb-43bb-894c-4b5ea517e9d0"
   },
   "outputs": [
    {
     "data": {
      "text/plain": [
       "<matplotlib.axes._subplots.AxesSubplot at 0x7f7752fc1ed0>"
      ]
     },
     "execution_count": 9,
     "metadata": {},
     "output_type": "execute_result"
    },
    {
     "data": {
      "image/png": "[encoded data removed]",
      "text/plain": [
       "<Figure size 432x288 with 1 Axes>"
      ]
     },
     "metadata": {
      "needs_background": "light"
     },
     "output_type": "display_data"
    }
   ],
   "source": [
    "raw_test_data['category'].value_counts().plot(kind='bar')"
   ]
  },
  {
   "cell_type": "markdown",
   "metadata": {
    "id": "37Sv4sUaAyps"
   },
   "source": [
    "#Train Data Analysis"
   ]
  },
  {
   "cell_type": "code",
   "execution_count": null,
   "metadata": {
    "colab": {
     "base_uri": "https://localhost:8080/",
     "height": 204
    },
    "executionInfo": {
     "elapsed": 18,
     "status": "ok",
     "timestamp": 1634648544912,
     "user": {
      "displayName": "Md. Mahmudul Hasan Shahin",
      "photoUrl": "https://lh3.googleusercontent.com/a-/AOh14GhRx95iiEiz_iqtQvGSnh1i2sStbv9xjQgHDQcM=s64",
      "userId": "04675764273122559940"
     },
     "user_tz": -360
    },
    "id": "P2_DiH7h8TDg",
    "outputId": "db1aa721-84b5-45d6-bbbf-978b3f80b900"
   },
   "outputs": [
    {
     "data": {
      "text/html": [
       "<div>\n",
       "<style scoped>\n",
       "    .dataframe tbody tr th:only-of-type {\n",
       "        vertical-align: middle;\n",
       "    }\n",
       "\n",
       "    .dataframe tbody tr th {\n",
       "        vertical-align: top;\n",
       "    }\n",
       "\n",
       "    .dataframe thead th {\n",
       "        text-align: right;\n",
       "    }\n",
       "</style>\n",
       "<table border=\"1\" class=\"dataframe\">\n",
       "  <thead>\n",
       "    <tr style=\"text-align: right;\">\n",
       "      <th></th>\n",
       "      <th>category</th>\n",
       "      <th>text</th>\n",
       "      <th>cleanText</th>\n",
       "    </tr>\n",
       "  </thead>\n",
       "  <tbody>\n",
       "    <tr>\n",
       "      <th>0</th>\n",
       "      <td>economy</td>\n",
       "      <td>বাংলাদেশে সফররত বিশ্ব বাণিজ্য সংস্থা (ডব্লিউট...</td>\n",
       "      <td>বাংলাদেশে    সফররত    বিশ্ব    বাণিজ্য    সং...</td>\n",
       "    </tr>\n",
       "    <tr>\n",
       "      <th>1</th>\n",
       "      <td>sports</td>\n",
       "      <td>ইউরোপিয়ান ফুটবলে আজ ঝড় বয়ে যাচ্ছে। একদিকে সংবা...</td>\n",
       "      <td>ইউরোপিয়ান    ফুটবলে    বয়ে    একদিকে    সংবা...</td>\n",
       "    </tr>\n",
       "    <tr>\n",
       "      <th>2</th>\n",
       "      <td>international</td>\n",
       "      <td>বিজেপির নেতৃত্বে ভারতের উত্তর প্রদেশ থেকে শুরু...</td>\n",
       "      <td>বিজেপির    নেতৃত্বে    ভারতের    উত্তর    প্...</td>\n",
       "    </tr>\n",
       "    <tr>\n",
       "      <th>3</th>\n",
       "      <td>state</td>\n",
       "      <td>নারায়ণগঞ্জের সোনারগাঁ উপজেলার একটি সরকারি প্র...</td>\n",
       "      <td>নারায়ণগঞ্জের    সোনারগাঁ    উপজেলার    সরকা...</td>\n",
       "    </tr>\n",
       "    <tr>\n",
       "      <th>4</th>\n",
       "      <td>sports</td>\n",
       "      <td>‘ছাই থেকে ছাই, ধুলো থেকে ধুলো...’ আধ্যাত্মিক ক...</td>\n",
       "      <td>ছাই    ছাই    ধুলো    ধুলো    আধ্যাত্মিক    ...</td>\n",
       "    </tr>\n",
       "  </tbody>\n",
       "</table>\n",
       "</div>"
      ],
      "text/plain": [
       "        category  ...                                          cleanText\n",
       "0        economy  ...    বাংলাদেশে    সফররত    বিশ্ব    বাণিজ্য    সং...\n",
       "1         sports  ...    ইউরোপিয়ান    ফুটবলে    বয়ে    একদিকে    সংবা...\n",
       "2  international  ...    বিজেপির    নেতৃত্বে    ভারতের    উত্তর    প্...\n",
       "3          state  ...    নারায়ণগঞ্জের    সোনারগাঁ    উপজেলার    সরকা...\n",
       "4         sports  ...    ছাই    ছাই    ধুলো    ধুলো    আধ্যাত্মিক    ...\n",
       "\n",
       "[5 rows x 3 columns]"
      ]
     },
     "execution_count": 10,
     "metadata": {},
     "output_type": "execute_result"
    }
   ],
   "source": [
    "raw_train_data.head()"
   ]
  },
  {
   "cell_type": "code",
   "execution_count": null,
   "metadata": {
    "colab": {
     "base_uri": "https://localhost:8080/"
    },
    "executionInfo": {
     "elapsed": 15,
     "status": "ok",
     "timestamp": 1634648544913,
     "user": {
      "displayName": "Md. Mahmudul Hasan Shahin",
      "photoUrl": "https://lh3.googleusercontent.com/a-/AOh14GhRx95iiEiz_iqtQvGSnh1i2sStbv9xjQgHDQcM=s64",
      "userId": "04675764273122559940"
     },
     "user_tz": -360
    },
    "id": "hmKMalEKACaX",
    "outputId": "42788206-7bca-4379-9812-2cb0cbe8bd88"
   },
   "outputs": [
    {
     "name": "stdout",
     "output_type": "stream",
     "text": [
      "Maximum length of given Clean Text :  53333\n",
      "Minimum length of given Clean Text :  11\n",
      "Average length of given Clean Text :  1839.90\n",
      "Average length of given Clean Text :  821\n"
     ]
    }
   ],
   "source": [
    "print('Maximum length of given Clean Text : ',max(len(x) for x in raw_train_data['cleanText']))\n",
    "print('Minimum length of given Clean Text : ',min(len(x) for x in raw_train_data['cleanText']))\n",
    "print(\"Average length of given Clean Text :  {:.2f}\".format(mean(len(x) for x in raw_train_data['cleanText'])))\n",
    "print('Average length of given Clean Text : ',mode(len(x) for x in raw_train_data['cleanText']))"
   ]
  },
  {
   "cell_type": "code",
   "execution_count": null,
   "metadata": {
    "colab": {
     "base_uri": "https://localhost:8080/",
     "height": 173
    },
    "executionInfo": {
     "elapsed": 655,
     "status": "ok",
     "timestamp": 1634648545558,
     "user": {
      "displayName": "Md. Mahmudul Hasan Shahin",
      "photoUrl": "https://lh3.googleusercontent.com/a-/AOh14GhRx95iiEiz_iqtQvGSnh1i2sStbv9xjQgHDQcM=s64",
      "userId": "04675764273122559940"
     },
     "user_tz": -360
    },
    "id": "c2OXOPtz_qHG",
    "outputId": "010d2928-38b8-495e-d802-3d05cb2860be"
   },
   "outputs": [
    {
     "data": {
      "text/html": [
       "<div>\n",
       "<style scoped>\n",
       "    .dataframe tbody tr th:only-of-type {\n",
       "        vertical-align: middle;\n",
       "    }\n",
       "\n",
       "    .dataframe tbody tr th {\n",
       "        vertical-align: top;\n",
       "    }\n",
       "\n",
       "    .dataframe thead th {\n",
       "        text-align: right;\n",
       "    }\n",
       "</style>\n",
       "<table border=\"1\" class=\"dataframe\">\n",
       "  <thead>\n",
       "    <tr style=\"text-align: right;\">\n",
       "      <th></th>\n",
       "      <th>category</th>\n",
       "      <th>text</th>\n",
       "      <th>cleanText</th>\n",
       "    </tr>\n",
       "  </thead>\n",
       "  <tbody>\n",
       "    <tr>\n",
       "      <th>count</th>\n",
       "      <td>98883</td>\n",
       "      <td>98883</td>\n",
       "      <td>98883</td>\n",
       "    </tr>\n",
       "    <tr>\n",
       "      <th>unique</th>\n",
       "      <td>7</td>\n",
       "      <td>98425</td>\n",
       "      <td>97926</td>\n",
       "    </tr>\n",
       "    <tr>\n",
       "      <th>top</th>\n",
       "      <td>sports</td>\n",
       "      <td>প্রিয় শিক্ষার্থী বন্ধুরা, তোমাদের হাতে আঁকা র...</td>\n",
       "      <td>প্রিয়    শিক্ষার্থী    বন্ধুরা    তোমাদের   ...</td>\n",
       "    </tr>\n",
       "    <tr>\n",
       "      <th>freq</th>\n",
       "      <td>15672</td>\n",
       "      <td>25</td>\n",
       "      <td>25</td>\n",
       "    </tr>\n",
       "  </tbody>\n",
       "</table>\n",
       "</div>"
      ],
      "text/plain": [
       "       category  ...                                          cleanText\n",
       "count     98883  ...                                              98883\n",
       "unique        7  ...                                              97926\n",
       "top      sports  ...    প্রিয়    শিক্ষার্থী    বন্ধুরা    তোমাদের   ...\n",
       "freq      15672  ...                                                 25\n",
       "\n",
       "[4 rows x 3 columns]"
      ]
     },
     "execution_count": 12,
     "metadata": {},
     "output_type": "execute_result"
    }
   ],
   "source": [
    "raw_train_data.describe()"
   ]
  },
  {
   "cell_type": "code",
   "execution_count": null,
   "metadata": {
    "colab": {
     "base_uri": "https://localhost:8080/"
    },
    "executionInfo": {
     "elapsed": 14,
     "status": "ok",
     "timestamp": 1634648545560,
     "user": {
      "displayName": "Md. Mahmudul Hasan Shahin",
      "photoUrl": "https://lh3.googleusercontent.com/a-/AOh14GhRx95iiEiz_iqtQvGSnh1i2sStbv9xjQgHDQcM=s64",
      "userId": "04675764273122559940"
     },
     "user_tz": -360
    },
    "id": "vIeNdn1x_syd",
    "outputId": "21645be0-82cb-4af9-8915-0dd785fba1e2"
   },
   "outputs": [
    {
     "data": {
      "text/plain": [
       "sports           15672\n",
       "international    15540\n",
       "state            15362\n",
       "entertainment    15198\n",
       "economy          14430\n",
       "education        12674\n",
       "technology       10007\n",
       "Name: category, dtype: int64"
      ]
     },
     "execution_count": 13,
     "metadata": {},
     "output_type": "execute_result"
    }
   ],
   "source": [
    "raw_train_data['category'].value_counts()"
   ]
  },
  {
   "cell_type": "code",
   "execution_count": null,
   "metadata": {
    "colab": {
     "base_uri": "https://localhost:8080/",
     "height": 355
    },
    "executionInfo": {
     "elapsed": 603,
     "status": "ok",
     "timestamp": 1634648546154,
     "user": {
      "displayName": "Md. Mahmudul Hasan Shahin",
      "photoUrl": "https://lh3.googleusercontent.com/a-/AOh14GhRx95iiEiz_iqtQvGSnh1i2sStbv9xjQgHDQcM=s64",
      "userId": "04675764273122559940"
     },
     "user_tz": -360
    },
    "id": "eb8d37CoAXvc",
    "outputId": "353ea318-8995-47fb-fd8f-dd89fc670f98"
   },
   "outputs": [
    {
     "data": {
      "text/plain": [
       "<matplotlib.axes._subplots.AxesSubplot at 0x7f7752fc19d0>"
      ]
     },
     "execution_count": 14,
     "metadata": {},
     "output_type": "execute_result"
    },
    {
     "data": {
      "image/png": "[encoded data removed]",
      "text/plain": [
       "<Figure size 432x288 with 1 Axes>"
      ]
     },
     "metadata": {
      "needs_background": "light"
     },
     "output_type": "display_data"
    }
   ],
   "source": [
    "raw_test_data['category'].value_counts().plot(kind='bar')"
   ]
  },
  {
   "cell_type": "code",
   "execution_count": null,
   "metadata": {
    "colab": {
     "base_uri": "https://localhost:8080/"
    },
    "executionInfo": {
     "elapsed": 12,
     "status": "ok",
     "timestamp": 1634648546158,
     "user": {
      "displayName": "Md. Mahmudul Hasan Shahin",
      "photoUrl": "https://lh3.googleusercontent.com/a-/AOh14GhRx95iiEiz_iqtQvGSnh1i2sStbv9xjQgHDQcM=s64",
      "userId": "04675764273122559940"
     },
     "user_tz": -360
    },
    "id": "_n1Yq9vOAfw9",
    "outputId": "838e6327-4aab-4922-ff79-664230e9153a"
   },
   "outputs": [
    {
     "name": "stdout",
     "output_type": "stream",
     "text": [
      "<class 'pandas.core.frame.DataFrame'>\n",
      "RangeIndex: 98884 entries, 0 to 98883\n",
      "Data columns (total 3 columns):\n",
      " #   Column     Non-Null Count  Dtype \n",
      "---  ------     --------------  ----- \n",
      " 0   category   98884 non-null  object\n",
      " 1   text       98884 non-null  object\n",
      " 2   cleanText  98884 non-null  object\n",
      "dtypes: object(3)\n",
      "memory usage: 2.3+ MB\n"
     ]
    }
   ],
   "source": [
    "raw_test_data.info()"
   ]
  },
  {
   "cell_type": "markdown",
   "metadata": {
    "id": "-o5x3ySOQ_Wu"
   },
   "source": [
    "#Preprocessing"
   ]
  },
  {
   "cell_type": "markdown",
   "metadata": {
    "id": "q-Eeo1KADTxa"
   },
   "source": [
    "## StopWord Removal"
   ]
  },
  {
   "cell_type": "code",
   "execution_count": null,
   "metadata": {
    "id": "BOrDQv-fQU2l"
   },
   "outputs": [],
   "source": [
    "stop_words = pd.read_csv('/Dataset/bangla_stop_word_471.csv')"
   ]
  },
  {
   "cell_type": "code",
   "execution_count": null,
   "metadata": {
    "colab": {
     "base_uri": "https://localhost:8080/",
     "height": 204
    },
    "executionInfo": {
     "elapsed": 15,
     "status": "ok",
     "timestamp": 1634648546528,
     "user": {
      "displayName": "Md. Mahmudul Hasan Shahin",
      "photoUrl": "https://lh3.googleusercontent.com/a-/AOh14GhRx95iiEiz_iqtQvGSnh1i2sStbv9xjQgHDQcM=s64",
      "userId": "04675764273122559940"
     },
     "user_tz": -360
    },
    "id": "n9J_20KJdLOg",
    "outputId": "76e298de-0b7c-4377-adab-cbfad9f39f96"
   },
   "outputs": [
    {
     "data": {
      "text/html": [
       "<div>\n",
       "<style scoped>\n",
       "    .dataframe tbody tr th:only-of-type {\n",
       "        vertical-align: middle;\n",
       "    }\n",
       "\n",
       "    .dataframe tbody tr th {\n",
       "        vertical-align: top;\n",
       "    }\n",
       "\n",
       "    .dataframe thead th {\n",
       "        text-align: right;\n",
       "    }\n",
       "</style>\n",
       "<table border=\"1\" class=\"dataframe\">\n",
       "  <thead>\n",
       "    <tr style=\"text-align: right;\">\n",
       "      <th></th>\n",
       "      <th>stop_word</th>\n",
       "    </tr>\n",
       "  </thead>\n",
       "  <tbody>\n",
       "    <tr>\n",
       "      <th>0</th>\n",
       "      <td>অতএব</td>\n",
       "    </tr>\n",
       "    <tr>\n",
       "      <th>1</th>\n",
       "      <td>অথচ</td>\n",
       "    </tr>\n",
       "    <tr>\n",
       "      <th>2</th>\n",
       "      <td>অথবা</td>\n",
       "    </tr>\n",
       "    <tr>\n",
       "      <th>3</th>\n",
       "      <td>অনুযায়ী</td>\n",
       "    </tr>\n",
       "    <tr>\n",
       "      <th>4</th>\n",
       "      <td>অনুযায়ী</td>\n",
       "    </tr>\n",
       "  </tbody>\n",
       "</table>\n",
       "</div>"
      ],
      "text/plain": [
       "  stop_word\n",
       "0      অতএব\n",
       "1       অথচ\n",
       "2      অথবা\n",
       "3  অনুযায়ী\n",
       "4   অনুযায়ী"
      ]
     },
     "execution_count": 17,
     "metadata": {},
     "output_type": "execute_result"
    }
   ],
   "source": [
    "stop_words.head()"
   ]
  },
  {
   "cell_type": "code",
   "execution_count": null,
   "metadata": {
    "colab": {
     "base_uri": "https://localhost:8080/"
    },
    "executionInfo": {
     "elapsed": 14,
     "status": "ok",
     "timestamp": 1634648546529,
     "user": {
      "displayName": "Md. Mahmudul Hasan Shahin",
      "photoUrl": "https://lh3.googleusercontent.com/a-/AOh14GhRx95iiEiz_iqtQvGSnh1i2sStbv9xjQgHDQcM=s64",
      "userId": "04675764273122559940"
     },
     "user_tz": -360
    },
    "id": "guvvZhVAmpZB",
    "outputId": "10961ee9-f0ea-463c-c767-f83ec5428176"
   },
   "outputs": [
    {
     "data": {
      "text/plain": [
       "3137"
      ]
     },
     "execution_count": 18,
     "metadata": {},
     "output_type": "execute_result"
    }
   ],
   "source": [
    "len(raw_train_data['cleanText'][0])"
   ]
  },
  {
   "cell_type": "code",
   "execution_count": null,
   "metadata": {
    "colab": {
     "base_uri": "https://localhost:8080/"
    },
    "executionInfo": {
     "elapsed": 13,
     "status": "ok",
     "timestamp": 1634648546530,
     "user": {
      "displayName": "Md. Mahmudul Hasan Shahin",
      "photoUrl": "https://lh3.googleusercontent.com/a-/AOh14GhRx95iiEiz_iqtQvGSnh1i2sStbv9xjQgHDQcM=s64",
      "userId": "04675764273122559940"
     },
     "user_tz": -360
    },
    "id": "9rY0uACxdbVP",
    "outputId": "eb60c84e-1a37-4252-ffa3-079fc1801199"
   },
   "outputs": [
    {
     "name": "stdout",
     "output_type": "stream",
     "text": [
      "Maximum length of given Clean Text :  53333\n",
      "Minimum length of given Clean Text :  11\n",
      "Average length of given Clean Text :  1839.90\n",
      "Average length of given Clean Text :  821\n"
     ]
    }
   ],
   "source": [
    "print('Maximum length of given Clean Text : ',max(len(x) for x in raw_train_data['cleanText']))\n",
    "print('Minimum length of given Clean Text : ',min(len(x) for x in raw_train_data['cleanText']))\n",
    "print(\"Average length of given Clean Text :  {:.2f}\".format(mean(len(x) for x in raw_train_data['cleanText'])))\n",
    "print('Average length of given Clean Text : ',mode(len(x) for x in raw_train_data['cleanText']))"
   ]
  },
  {
   "cell_type": "code",
   "execution_count": null,
   "metadata": {
    "id": "ehnNPTGda_BD"
   },
   "outputs": [],
   "source": [
    "raw_train_data['cleanText'] = raw_train_data['cleanText'].apply(lambda x: \" \".join(x for x in x.split() if x not in stop_words['stop_word']))"
   ]
  },
  {
   "cell_type": "code",
   "execution_count": null,
   "metadata": {
    "id": "ERbmZj4Tlhyi"
   },
   "outputs": [],
   "source": [
    "#raw_train_data.to_csv('train_data_stop_raw.csv', encoding='utf-8', index=False)"
   ]
  },
  {
   "cell_type": "code",
   "execution_count": null,
   "metadata": {
    "colab": {
     "base_uri": "https://localhost:8080/"
    },
    "executionInfo": {
     "elapsed": 13,
     "status": "ok",
     "timestamp": 1634648673807,
     "user": {
      "displayName": "Md. Mahmudul Hasan Shahin",
      "photoUrl": "https://lh3.googleusercontent.com/a-/AOh14GhRx95iiEiz_iqtQvGSnh1i2sStbv9xjQgHDQcM=s64",
      "userId": "04675764273122559940"
     },
     "user_tz": -360
    },
    "id": "cgg74jJ9oG9u",
    "outputId": "9701f6b3-5604-4655-da0a-b518872b5198"
   },
   "outputs": [
    {
     "name": "stdout",
     "output_type": "stream",
     "text": [
      "Total row in Train Data            :  98883\n",
      "Maximum length of given Clean Text :  37603\n",
      "Minimum length of given Clean Text :  7\n",
      "Average length of given Clean Text :  1302.70\n",
      "Average length of given Clean Text :  727\n"
     ]
    }
   ],
   "source": [
    "print('Total row in Train Data            : ',len(raw_train_data))\n",
    "print('Maximum length of given Clean Text : ',max(len(x) for x in raw_train_data['cleanText']))\n",
    "print('Minimum length of given Clean Text : ',min(len(x) for x in raw_train_data['cleanText']))\n",
    "print(\"Average length of given Clean Text :  {:.2f}\".format(mean(len(x) for x in raw_train_data['cleanText'])))\n",
    "print('Average length of given Clean Text : ',mode(len(x) for x in raw_train_data['cleanText']))"
   ]
  },
  {
   "cell_type": "code",
   "execution_count": null,
   "metadata": {
    "colab": {
     "base_uri": "https://localhost:8080/"
    },
    "executionInfo": {
     "elapsed": 8,
     "status": "ok",
     "timestamp": 1634648673807,
     "user": {
      "displayName": "Md. Mahmudul Hasan Shahin",
      "photoUrl": "https://lh3.googleusercontent.com/a-/AOh14GhRx95iiEiz_iqtQvGSnh1i2sStbv9xjQgHDQcM=s64",
      "userId": "04675764273122559940"
     },
     "user_tz": -360
    },
    "id": "6GytGlsdb_XA",
    "outputId": "f0c42e32-a695-4a5b-afc4-164f47c3b4d6"
   },
   "outputs": [
    {
     "data": {
      "text/plain": [
       "2257"
      ]
     },
     "execution_count": 23,
     "metadata": {},
     "output_type": "execute_result"
    }
   ],
   "source": [
    "len(raw_train_data['cleanText'][0])"
   ]
  },
  {
   "cell_type": "markdown",
   "metadata": {
    "id": "E6DDUCuTDeFh"
   },
   "source": [
    "## Tokenizeing Text"
   ]
  },
  {
   "cell_type": "code",
   "execution_count": null,
   "metadata": {
    "id": "xlJzBTscB4YN"
   },
   "outputs": [],
   "source": [
    "train_data_x = pd.DataFrame()\n",
    "train_data_x['cleanText'] = raw_train_data['cleanText'].apply(lambda x: x.split(' '))"
   ]
  },
  {
   "cell_type": "code",
   "execution_count": null,
   "metadata": {
    "colab": {
     "base_uri": "https://localhost:8080/"
    },
    "executionInfo": {
     "elapsed": 17,
     "status": "ok",
     "timestamp": 1634648677596,
     "user": {
      "displayName": "Md. Mahmudul Hasan Shahin",
      "photoUrl": "https://lh3.googleusercontent.com/a-/AOh14GhRx95iiEiz_iqtQvGSnh1i2sStbv9xjQgHDQcM=s64",
      "userId": "04675764273122559940"
     },
     "user_tz": -360
    },
    "id": "DBnuvSjlFn-p",
    "outputId": "097f7ae0-24d6-48e2-f2ef-f9cb63f6c778"
   },
   "outputs": [
    {
     "name": "stdout",
     "output_type": "stream",
     "text": [
      "98883\n",
      "293\n"
     ]
    }
   ],
   "source": [
    "print(len(train_data_x))\n",
    "print(len(train_data_x['cleanText'][0]))"
   ]
  },
  {
   "cell_type": "code",
   "execution_count": null,
   "metadata": {
    "colab": {
     "base_uri": "https://localhost:8080/"
    },
    "executionInfo": {
     "elapsed": 15,
     "status": "ok",
     "timestamp": 1634648677598,
     "user": {
      "displayName": "Md. Mahmudul Hasan Shahin",
      "photoUrl": "https://lh3.googleusercontent.com/a-/AOh14GhRx95iiEiz_iqtQvGSnh1i2sStbv9xjQgHDQcM=s64",
      "userId": "04675764273122559940"
     },
     "user_tz": -360
    },
    "id": "TQbX2b53QCJW",
    "outputId": "5018134e-df6e-466d-8df5-86285b890ad4"
   },
   "outputs": [
    {
     "name": "stdout",
     "output_type": "stream",
     "text": [
      "Total row in Train Data      :  98883\n",
      "Maximum length of Train Word :  5243\n",
      "Minimum length of Train Word :  1\n",
      "Average length of Train Word :  178.73\n",
      "Mode length of Train Word    :  117\n"
     ]
    }
   ],
   "source": [
    "#%%script false\n",
    "print('Total row in Train Data      : ',len(train_data_x))\n",
    "print('Maximum length of Train Word : ',max(len(x) for x in train_data_x['cleanText']))\n",
    "print('Minimum length of Train Word : ',min(len(x) for x in train_data_x['cleanText']))\n",
    "print(\"Average length of Train Word :  {:.2f}\".format(mean(len(x) for x in train_data_x['cleanText'])))\n",
    "print('Mode length of Train Word    : ',mode(len(x) for x in train_data_x['cleanText'])) # Value that occur most often"
   ]
  },
  {
   "cell_type": "markdown",
   "metadata": {
    "id": "f-VdAhbQmsOl"
   },
   "source": [
    "## Outlier Checking"
   ]
  },
  {
   "cell_type": "code",
   "execution_count": null,
   "metadata": {
    "colab": {
     "base_uri": "https://localhost:8080/",
     "height": 38
    },
    "executionInfo": {
     "elapsed": 12,
     "status": "ok",
     "timestamp": 1634648677599,
     "user": {
      "displayName": "Md. Mahmudul Hasan Shahin",
      "photoUrl": "https://lh3.googleusercontent.com/a-/AOh14GhRx95iiEiz_iqtQvGSnh1i2sStbv9xjQgHDQcM=s64",
      "userId": "04675764273122559940"
     },
     "user_tz": -360
    },
    "id": "vCYMQJTJ6Y0C",
    "outputId": "0b94912c-989b-4531-8eb6-255445253220"
   },
   "outputs": [
    {
     "data": {
      "text/html": [
       "<marquee style='width: 50%; color: red;'><b>!!! Length Ploting of Text !!!</b></marquee>"
      ],
      "text/plain": [
       "<IPython.core.display.HTML object>"
      ]
     },
     "metadata": {},
     "output_type": "display_data"
    }
   ],
   "source": [
    "%%html\n",
    "<marquee style='width: 50%; color: red;'><b>!!! Length Ploting of Text !!!</b></marquee>"
   ]
  },
  {
   "cell_type": "code",
   "execution_count": null,
   "metadata": {
    "colab": {
     "base_uri": "https://localhost:8080/",
     "height": 485
    },
    "executionInfo": {
     "elapsed": 879,
     "status": "ok",
     "timestamp": 1634648678467,
     "user": {
      "displayName": "Md. Mahmudul Hasan Shahin",
      "photoUrl": "https://lh3.googleusercontent.com/a-/AOh14GhRx95iiEiz_iqtQvGSnh1i2sStbv9xjQgHDQcM=s64",
      "userId": "04675764273122559940"
     },
     "user_tz": -360
    },
    "id": "5j9U9Nv536gn",
    "outputId": "ef31d18d-6e60-41de-bc85-02bc4fe1b37b"
   },
   "outputs": [
    {
     "data": {
      "image/png": "[encoded data removed]",
      "text/plain": [
       "<Figure size 1296x576 with 1 Axes>"
      ]
     },
     "metadata": {
      "needs_background": "light"
     },
     "output_type": "display_data"
    }
   ],
   "source": [
    "plt.figure(figsize=(18,8))\n",
    "plt.scatter(train_data_x['cleanText'].index, train_data_x['cleanText'].apply(lambda x: len(x)), color='green')\n",
    "plt.show()"
   ]
  },
  {
   "cell_type": "markdown",
   "metadata": {
    "id": "yNT7a-iPm8hk"
   },
   "source": [
    "## Outlier Removing"
   ]
  },
  {
   "cell_type": "code",
   "execution_count": null,
   "metadata": {
    "colab": {
     "base_uri": "https://localhost:8080/"
    },
    "executionInfo": {
     "elapsed": 1445,
     "status": "ok",
     "timestamp": 1634648679906,
     "user": {
      "displayName": "Md. Mahmudul Hasan Shahin",
      "photoUrl": "https://lh3.googleusercontent.com/a-/AOh14GhRx95iiEiz_iqtQvGSnh1i2sStbv9xjQgHDQcM=s64",
      "userId": "04675764273122559940"
     },
     "user_tz": -360
    },
    "id": "W7_lX1_a5rd_",
    "outputId": "153fdbc9-5296-4ecf-c000-e82b9d411d99"
   },
   "outputs": [
    {
     "name": "stdout",
     "output_type": "stream",
     "text": [
      "Total Row length less then 351 :  90118\n"
     ]
    }
   ],
   "source": [
    "column_names = ['cleanText', 'category']\n",
    "\n",
    "train_data_full = pd.DataFrame(columns = column_names)\n",
    "\n",
    "cnt = 0\n",
    "j = 0\n",
    "cleanText = []\n",
    "category = []\n",
    "\n",
    "for i in train_data_x['cleanText'].apply(lambda x: len(x)):\n",
    "\n",
    "  if i < 350:\n",
    "    cleanText.append(train_data_x['cleanText'][j])\n",
    "    category.append(raw_train_data['category'][j])     \n",
    "    cnt +=1\n",
    "\n",
    "  j += 1\n",
    "  \n",
    "train_data_full['cleanText'] = cleanText\n",
    "train_data_full['category'] = category\n",
    "\n",
    "categor = cleanText = 0\n",
    "\n",
    "print('Total Row length less then 351 : ',cnt)"
   ]
  },
  {
   "cell_type": "code",
   "execution_count": null,
   "metadata": {
    "id": "_ML03krR3VM2"
   },
   "outputs": [],
   "source": [
    "for i in train_data_full['cleanText']:\n",
    "  if len(i) >= 350 :\n",
    "    print(len(i))\n",
    "    print('problem')\n",
    "    break"
   ]
  },
  {
   "cell_type": "code",
   "execution_count": null,
   "metadata": {
    "id": "TGVSmqs6fhUS"
   },
   "outputs": [],
   "source": [
    "#train_data_full.to_csv('train_data_stop_350.csv', encoding='utf-8', index=False)"
   ]
  },
  {
   "cell_type": "code",
   "execution_count": null,
   "metadata": {
    "colab": {
     "base_uri": "https://localhost:8080/",
     "height": 204
    },
    "executionInfo": {
     "elapsed": 10,
     "status": "ok",
     "timestamp": 1634648679909,
     "user": {
      "displayName": "Md. Mahmudul Hasan Shahin",
      "photoUrl": "https://lh3.googleusercontent.com/a-/AOh14GhRx95iiEiz_iqtQvGSnh1i2sStbv9xjQgHDQcM=s64",
      "userId": "04675764273122559940"
     },
     "user_tz": -360
    },
    "id": "u6ZwOl-mEEW2",
    "outputId": "399b0687-b274-4f7d-bb58-54a2d6a3f284"
   },
   "outputs": [
    {
     "data": {
      "text/html": [
       "<div>\n",
       "<style scoped>\n",
       "    .dataframe tbody tr th:only-of-type {\n",
       "        vertical-align: middle;\n",
       "    }\n",
       "\n",
       "    .dataframe tbody tr th {\n",
       "        vertical-align: top;\n",
       "    }\n",
       "\n",
       "    .dataframe thead th {\n",
       "        text-align: right;\n",
       "    }\n",
       "</style>\n",
       "<table border=\"1\" class=\"dataframe\">\n",
       "  <thead>\n",
       "    <tr style=\"text-align: right;\">\n",
       "      <th></th>\n",
       "      <th>cleanText</th>\n",
       "      <th>category</th>\n",
       "    </tr>\n",
       "  </thead>\n",
       "  <tbody>\n",
       "    <tr>\n",
       "      <th>0</th>\n",
       "      <td>[বাংলাদেশে, সফররত, বিশ্ব, বাণিজ্য, সংস্থা, ডব্...</td>\n",
       "      <td>economy</td>\n",
       "    </tr>\n",
       "    <tr>\n",
       "      <th>1</th>\n",
       "      <td>[ইউরোপিয়ান, ফুটবলে, বয়ে, একদিকে, সংবাদমাধ্যমগু...</td>\n",
       "      <td>sports</td>\n",
       "    </tr>\n",
       "    <tr>\n",
       "      <th>2</th>\n",
       "      <td>[বিজেপির, নেতৃত্বে, ভারতের, উত্তর, প্রদেশ, শুর...</td>\n",
       "      <td>international</td>\n",
       "    </tr>\n",
       "    <tr>\n",
       "      <th>3</th>\n",
       "      <td>[নারায়ণগঞ্জের, সোনারগাঁ, উপজেলার, সরকারি, প্র...</td>\n",
       "      <td>state</td>\n",
       "    </tr>\n",
       "    <tr>\n",
       "      <th>4</th>\n",
       "      <td>[ছাই, ছাই, ধুলো, ধুলো, আধ্যাত্মিক, ব্যবহৃত, বা...</td>\n",
       "      <td>sports</td>\n",
       "    </tr>\n",
       "  </tbody>\n",
       "</table>\n",
       "</div>"
      ],
      "text/plain": [
       "                                           cleanText       category\n",
       "0  [বাংলাদেশে, সফররত, বিশ্ব, বাণিজ্য, সংস্থা, ডব্...        economy\n",
       "1  [ইউরোপিয়ান, ফুটবলে, বয়ে, একদিকে, সংবাদমাধ্যমগু...         sports\n",
       "2  [বিজেপির, নেতৃত্বে, ভারতের, উত্তর, প্রদেশ, শুর...  international\n",
       "3  [নারায়ণগঞ্জের, সোনারগাঁ, উপজেলার, সরকারি, প্র...          state\n",
       "4  [ছাই, ছাই, ধুলো, ধুলো, আধ্যাত্মিক, ব্যবহৃত, বা...         sports"
      ]
     },
     "execution_count": 32,
     "metadata": {},
     "output_type": "execute_result"
    }
   ],
   "source": [
    "train_data_full.head()"
   ]
  },
  {
   "cell_type": "code",
   "execution_count": null,
   "metadata": {
    "colab": {
     "base_uri": "https://localhost:8080/"
    },
    "executionInfo": {
     "elapsed": 529,
     "status": "ok",
     "timestamp": 1634648680429,
     "user": {
      "displayName": "Md. Mahmudul Hasan Shahin",
      "photoUrl": "https://lh3.googleusercontent.com/a-/AOh14GhRx95iiEiz_iqtQvGSnh1i2sStbv9xjQgHDQcM=s64",
      "userId": "04675764273122559940"
     },
     "user_tz": -360
    },
    "id": "FNHFNCWmrV9w",
    "outputId": "21f55e4a-62e7-4a4c-d290-27d81e5f6777"
   },
   "outputs": [
    {
     "data": {
      "text/plain": [
       "international    14621\n",
       "sports           14433\n",
       "state            14134\n",
       "entertainment    14121\n",
       "economy          12219\n",
       "education        11220\n",
       "technology        9370\n",
       "Name: category, dtype: int64"
      ]
     },
     "execution_count": 33,
     "metadata": {},
     "output_type": "execute_result"
    }
   ],
   "source": [
    "train_data_full['category'].value_counts()"
   ]
  },
  {
   "cell_type": "code",
   "execution_count": null,
   "metadata": {
    "colab": {
     "base_uri": "https://localhost:8080/",
     "height": 355
    },
    "executionInfo": {
     "elapsed": 19,
     "status": "ok",
     "timestamp": 1634648680432,
     "user": {
      "displayName": "Md. Mahmudul Hasan Shahin",
      "photoUrl": "https://lh3.googleusercontent.com/a-/AOh14GhRx95iiEiz_iqtQvGSnh1i2sStbv9xjQgHDQcM=s64",
      "userId": "04675764273122559940"
     },
     "user_tz": -360
    },
    "id": "53uWVMr5jECJ",
    "outputId": "b42ddfdb-5ffb-4b10-d80c-aa46a6583d21"
   },
   "outputs": [
    {
     "data": {
      "text/plain": [
       "<matplotlib.axes._subplots.AxesSubplot at 0x7f76eb375a10>"
      ]
     },
     "execution_count": 34,
     "metadata": {},
     "output_type": "execute_result"
    },
    {
     "data": {
      "image/png": "[encoded data removed]",
      "text/plain": [
       "<Figure size 432x288 with 1 Axes>"
      ]
     },
     "metadata": {
      "needs_background": "light"
     },
     "output_type": "display_data"
    }
   ],
   "source": [
    "train_data_full['category'].value_counts().plot(kind='bar')"
   ]
  },
  {
   "cell_type": "code",
   "execution_count": null,
   "metadata": {
    "id": "AlR2cgsz2bWv"
   },
   "outputs": [],
   "source": [
    "%%script false\n",
    "fig=plt.figure(figsize=(12,6))\n",
    "ax=fig.add_axes([0,0,1,1])\n",
    "\n",
    "ax.scatter(X_test.index, y_main, color='red')\n",
    "ax.scatter(X_test.index, y_pred, color='green')\n",
    "\n",
    "ax.set_ylabel('Completion Ratio')\n",
    "ax.set_xlabel('Driver Id')\n",
    "ax.set_title('Completion Ratio end Of the Week')\n",
    "plt.legend(['Actual Result', 'Model Predict'], loc='upper left')\n",
    "plt.show()"
   ]
  },
  {
   "cell_type": "code",
   "execution_count": null,
   "metadata": {
    "colab": {
     "base_uri": "https://localhost:8080/",
     "height": 103
    },
    "executionInfo": {
     "elapsed": 18,
     "status": "ok",
     "timestamp": 1634648680436,
     "user": {
      "displayName": "Md. Mahmudul Hasan Shahin",
      "photoUrl": "https://lh3.googleusercontent.com/a-/AOh14GhRx95iiEiz_iqtQvGSnh1i2sStbv9xjQgHDQcM=s64",
      "userId": "04675764273122559940"
     },
     "user_tz": -360
    },
    "id": "_nyDe73Om1h8",
    "outputId": "7e8df4f0-1038-4c43-870b-004450dc77b2"
   },
   "outputs": [
    {
     "data": {
      "application/vnd.google.colaboratory.intrinsic+json": {
       "type": "string"
      },
      "text/plain": [
       "'বাংলাদেশে সফররত বিশ্ব বাণিজ্য সংস্থা ডব্লিউটিও মহাপরিচালক এইচইএম রবার্তো আজেভেদো রাজনৈতিক সিদ্ধান্তই যুক্তরাষ্ট্রের বাজারে বাংলাদেশের তৈরি পোশাক রফতানির শুল্ক কোটামুক্ত বাণিজ্য সুবিধা পাওয়ার বিষয়টি নিশ্চিত ইস্যুটির সমাধান খুব সহজ সম্ভব চলতি বছরের শেষ বালি প্যাকেজে নেয়া গুরুত্বপূর্ণ তিনটি সিদ্ধান্ত ডিউটি ফ্রি কোটা ফ্রি মার্কেট অ্যাকসেস রুলস অরিজিন সার্ভিস ওয়েভার সুবিধার অগ্রগতি বাংলাদেশকেও বালি প্যাকেজ বাস্তবায়নে স্বল্পোন্নত দেশগুলোর এলডিসি জোট কাজ মঙ্গলবার রাজধানীর সোনারগাঁও হোটেলে বিজিএমইএ বিকেএমইএ আয়োজিত মধ্যহ্নভোজ সভায় মুখ্য আলোচকের বক্তব্যে এসব কথা ডব্লিউটিওর মহাপরিচালকের সম্মানে আয়োজিত অনুষ্ঠানে প্রধান অতিথির বক্তব্য রাখেন বাণিজ্যমন্ত্রী তোফায়েল আহমেদ বিজিএমইএর সভাপতি শহীদুল্লাহ আজিমের সঞ্চালনায় অনুষ্ঠানে অন্যান্যের এফবিসিসিআই সভাপতি কাজী আকরাম উদ্দীন বাণিজ্য সচিব মাহবুব আহমেদ ডিসিসিআই সভাপতি শাহজাহান খান বিজিএমইএ সভাপতি আতিকুল ইসলাম বিকেএমইএ ভারপ্রাপ্ত সভাপতি মোহাম্মদ হাতেম প্রমুখ উপস্থিত ডব্লিউটিও মহাপরিচালক ডব্লিটিও বিভিন্ন বাংলাদেশ গুরুত্বপূর্ণ ভূমিকা পালন আসছে সালেও হংকং প্যাকেজে ডিউটি ফ্রি কোটা ফ্রি মার্কেট অ্যাকসেসে বাংলাদেশের অর্থনীতির উন্নতি আশা করছি চলতি বছরে ইন্দোনেশিয়ার বালি সম্মেলনেও গৃহিত বহুপক্ষীয় চুক্তির বিষয়ে বাংলাদেশ ইতিবাচক ভূমিকা রাখবে বর্তমানে বাংলাদেশ সফর করছি বালি প্যাকেজ বাস্তবায়নে বাংলাদেশের ভূমিকা আলোচনা করতেই সময় ডব্লিউটিওর মহাপরিচালক বাংলাদেশের অর্থনীতির বিভিন্ন দিক অর্জন নিয়েও প্রশংসা বাংলাদেশ উত্তরোত্তর প্রবৃদ্ধির ধারা বজায় রেখেছে সার্বিক আর্থসামাজিক উন্নয়নসহ নারীর ক্ষমতায়নে বাংলাদেশ সঠিক পথেই এগিয়ে বলেও মনে অনুষ্ঠানে বাণিজ্যমন্ত্রী তোফায়েল আহমেদ আশা রাখতে চাই বালি প্যাকেজে নেয়া গুরুত্বপূর্ণ তিনটি সিদ্ধান্তই বর্তমান ডব্লিউটিওর মহাপরিচালক মেয়াদের সিদ্ধান্তগুলো বাস্তবায়ন বাস্তবতা একটু কঠিনই বাংলাদেশের প্রেক্ষাপটে ডিউটি ফ্রি কোটা ফ্রি মার্কেট অ্যাকসেস খুবই কঠিন অধিকাংশ দেশ সমর্থন করলেও বিরোধিতাও বহির্বিশ্বে শুল্কমুক্ত সুবিধা পাওয়ার যাচ্ছি তৈরি পোশাক শিল্পকে শিশুশ্রম মুক্ত করেছি অন্যান্য এলডিসিভুক্ত দেশ বিভিন্ন সুবিধা পেলেও বাংলাদেশ বঞ্চিত স্বল্পোন্নত দেশ এলডিসি হিসেবে বিশ্ববাজারে বাংলাদেশের বেশি শুল্কমুক্ত সুবিধা পেতে ডব্লিউটিওর মহাপরিচালকের হস্তক্ষেপ সহায়তা কামনা বিজিএমইএ সভাপতি আতিকুল ইসলাম প্যাকেজের এলডিসিভুক্ত দেশগুলো বহুমুখী সুবিধা পাবে রুলস অরিজিন সহজীকরণ উন্নত দেশগুলোর পোশাক ক্রেতাদের টিকে সম্ভব ডব্লিউটিওর ফ্রেমওয়ার্কে ডিউটি ফ্রি কোটা ফ্রি মার্কেট অ্যাকসেস সুবিধার জোর দাবি জানান'"
      ]
     },
     "execution_count": 36,
     "metadata": {},
     "output_type": "execute_result"
    }
   ],
   "source": [
    "raw_train_data['cleanText'][0]"
   ]
  },
  {
   "cell_type": "code",
   "execution_count": null,
   "metadata": {
    "colab": {
     "base_uri": "https://localhost:8080/"
    },
    "executionInfo": {
     "elapsed": 41,
     "status": "ok",
     "timestamp": 1634648680844,
     "user": {
      "displayName": "Md. Mahmudul Hasan Shahin",
      "photoUrl": "https://lh3.googleusercontent.com/a-/AOh14GhRx95iiEiz_iqtQvGSnh1i2sStbv9xjQgHDQcM=s64",
      "userId": "04675764273122559940"
     },
     "user_tz": -360
    },
    "id": "ZC7pmTcXp104",
    "outputId": "d27e461d-2783-4239-90ad-df50c29e0e2f"
   },
   "outputs": [
    {
     "name": "stdout",
     "output_type": "stream",
     "text": [
      "['বাংলাদেশে', 'সফররত', 'বিশ্ব', 'বাণিজ্য', 'সংস্থা', 'ডব্লিউটিও', 'মহাপরিচালক', 'এইচইএম', 'রবার্তো', 'আজেভেদো', 'রাজনৈতিক', 'সিদ্ধান্তই', 'যুক্তরাষ্ট্রের', 'বাজারে', 'বাংলাদেশের', 'তৈরি', 'পোশাক', 'রফতানির', 'শুল্ক', 'কোটামুক্ত', 'বাণিজ্য', 'সুবিধা', 'পাওয়ার', 'বিষয়টি', 'নিশ্চিত', 'ইস্যুটির', 'সমাধান', 'খুব', 'সহজ', 'সম্ভব', 'চলতি', 'বছরের', 'শেষ', 'বালি', 'প্যাকেজে', 'নেয়া', 'গুরুত্বপূর্ণ', 'তিনটি', 'সিদ্ধান্ত', 'ডিউটি', 'ফ্রি', 'কোটা', 'ফ্রি', 'মার্কেট', 'অ্যাকসেস', 'রুলস', 'অরিজিন', 'সার্ভিস', 'ওয়েভার', 'সুবিধার', 'অগ্রগতি', 'বাংলাদেশকেও', 'বালি', 'প্যাকেজ', 'বাস্তবায়নে', 'স্বল্পোন্নত', 'দেশগুলোর', 'এলডিসি', 'জোট', 'কাজ', 'মঙ্গলবার', 'রাজধানীর', 'সোনারগাঁও', 'হোটেলে', 'বিজিএমইএ', 'বিকেএমইএ', 'আয়োজিত', 'মধ্যহ্নভোজ', 'সভায়', 'মুখ্য', 'আলোচকের', 'বক্তব্যে', 'এসব', 'কথা', 'ডব্লিউটিওর', 'মহাপরিচালকের', 'সম্মানে', 'আয়োজিত', 'অনুষ্ঠানে', 'প্রধান', 'অতিথির', 'বক্তব্য', 'রাখেন', 'বাণিজ্যমন্ত্রী', 'তোফায়েল', 'আহমেদ', 'বিজিএমইএর', 'সভাপতি', 'শহীদুল্লাহ', 'আজিমের', 'সঞ্চালনায়', 'অনুষ্ঠানে', 'অন্যান্যের', 'এফবিসিসিআই', 'সভাপতি', 'কাজী', 'আকরাম', 'উদ্দীন', 'বাণিজ্য', 'সচিব', 'মাহবুব', 'আহমেদ', 'ডিসিসিআই', 'সভাপতি', 'শাহজাহান', 'খান', 'বিজিএমইএ', 'সভাপতি', 'আতিকুল', 'ইসলাম', 'বিকেএমইএ', 'ভারপ্রাপ্ত', 'সভাপতি', 'মোহাম্মদ', 'হাতেম', 'প্রমুখ', 'উপস্থিত', 'ডব্লিউটিও', 'মহাপরিচালক', 'ডব্লিটিও', 'বিভিন্ন', 'বাংলাদেশ', 'গুরুত্বপূর্ণ', 'ভূমিকা', 'পালন', 'আসছে', 'সালেও', 'হংকং', 'প্যাকেজে', 'ডিউটি', 'ফ্রি', 'কোটা', 'ফ্রি', 'মার্কেট', 'অ্যাকসেসে', 'বাংলাদেশের', 'অর্থনীতির', 'উন্নতি', 'আশা', 'করছি', 'চলতি', 'বছরে', 'ইন্দোনেশিয়ার', 'বালি', 'সম্মেলনেও', 'গৃহিত', 'বহুপক্ষীয়', 'চুক্তির', 'বিষয়ে', 'বাংলাদেশ', 'ইতিবাচক', 'ভূমিকা', 'রাখবে', 'বর্তমানে', 'বাংলাদেশ', 'সফর', 'করছি', 'বালি', 'প্যাকেজ', 'বাস্তবায়নে', 'বাংলাদেশের', 'ভূমিকা', 'আলোচনা', 'করতেই', 'সময়', 'ডব্লিউটিওর', 'মহাপরিচালক', 'বাংলাদেশের', 'অর্থনীতির', 'বিভিন্ন', 'দিক', 'অর্জন', 'নিয়েও', 'প্রশংসা', 'বাংলাদেশ', 'উত্তরোত্তর', 'প্রবৃদ্ধির', 'ধারা', 'বজায়', 'রেখেছে', 'সার্বিক', 'আর্থসামাজিক', 'উন্নয়নসহ', 'নারীর', 'ক্ষমতায়নে', 'বাংলাদেশ', 'সঠিক', 'পথেই', 'এগিয়ে', 'বলেও', 'মনে', 'অনুষ্ঠানে', 'বাণিজ্যমন্ত্রী', 'তোফায়েল', 'আহমেদ', 'আশা', 'রাখতে', 'চাই', 'বালি', 'প্যাকেজে', 'নেয়া', 'গুরুত্বপূর্ণ', 'তিনটি', 'সিদ্ধান্তই', 'বর্তমান', 'ডব্লিউটিওর', 'মহাপরিচালক', 'মেয়াদের', 'সিদ্ধান্তগুলো', 'বাস্তবায়ন', 'বাস্তবতা', 'একটু', 'কঠিনই', 'বাংলাদেশের', 'প্রেক্ষাপটে', 'ডিউটি', 'ফ্রি', 'কোটা', 'ফ্রি', 'মার্কেট', 'অ্যাকসেস', 'খুবই', 'কঠিন', 'অধিকাংশ', 'দেশ', 'সমর্থন', 'করলেও', 'বিরোধিতাও', 'বহির্বিশ্বে', 'শুল্কমুক্ত', 'সুবিধা', 'পাওয়ার', 'যাচ্ছি', 'তৈরি', 'পোশাক', 'শিল্পকে', 'শিশুশ্রম', 'মুক্ত', 'করেছি', 'অন্যান্য', 'এলডিসিভুক্ত', 'দেশ', 'বিভিন্ন', 'সুবিধা', 'পেলেও', 'বাংলাদেশ', 'বঞ্চিত', 'স্বল্পোন্নত', 'দেশ', 'এলডিসি', 'হিসেবে', 'বিশ্ববাজারে', 'বাংলাদেশের', 'বেশি', 'শুল্কমুক্ত', 'সুবিধা', 'পেতে', 'ডব্লিউটিওর', 'মহাপরিচালকের', 'হস্তক্ষেপ', 'সহায়তা', 'কামনা', 'বিজিএমইএ', 'সভাপতি', 'আতিকুল', 'ইসলাম', 'প্যাকেজের', 'এলডিসিভুক্ত', 'দেশগুলো', 'বহুমুখী', 'সুবিধা', 'পাবে', 'রুলস', 'অরিজিন', 'সহজীকরণ', 'উন্নত', 'দেশগুলোর', 'পোশাক', 'ক্রেতাদের', 'টিকে', 'সম্ভব', 'ডব্লিউটিওর', 'ফ্রেমওয়ার্কে', 'ডিউটি', 'ফ্রি', 'কোটা', 'ফ্রি', 'মার্কেট', 'অ্যাকসেস', 'সুবিধার', 'জোর', 'দাবি', 'জানান']\n"
     ]
    }
   ],
   "source": [
    "print(train_data_x['cleanText'][0])"
   ]
  },
  {
   "cell_type": "code",
   "execution_count": null,
   "metadata": {
    "colab": {
     "base_uri": "https://localhost:8080/"
    },
    "executionInfo": {
     "elapsed": 45,
     "status": "ok",
     "timestamp": 1634648680854,
     "user": {
      "displayName": "Md. Mahmudul Hasan Shahin",
      "photoUrl": "https://lh3.googleusercontent.com/a-/AOh14GhRx95iiEiz_iqtQvGSnh1i2sStbv9xjQgHDQcM=s64",
      "userId": "04675764273122559940"
     },
     "user_tz": -360
    },
    "id": "QifJ98VknFde",
    "outputId": "d98908a5-e202-466e-db2c-a5cbcdb3da88"
   },
   "outputs": [
    {
     "data": {
      "text/plain": [
       "293"
      ]
     },
     "execution_count": 38,
     "metadata": {},
     "output_type": "execute_result"
    }
   ],
   "source": [
    "len(train_data_x['cleanText'][0])"
   ]
  },
  {
   "cell_type": "code",
   "execution_count": null,
   "metadata": {
    "colab": {
     "base_uri": "https://localhost:8080/",
     "height": 204
    },
    "executionInfo": {
     "elapsed": 31,
     "status": "ok",
     "timestamp": 1634648680855,
     "user": {
      "displayName": "Md. Mahmudul Hasan Shahin",
      "photoUrl": "https://lh3.googleusercontent.com/a-/AOh14GhRx95iiEiz_iqtQvGSnh1i2sStbv9xjQgHDQcM=s64",
      "userId": "04675764273122559940"
     },
     "user_tz": -360
    },
    "id": "hJ2hs4pFfrqx",
    "outputId": "8f4790cc-cd68-47c1-ca25-6341aa3a6fe9"
   },
   "outputs": [
    {
     "data": {
      "text/html": [
       "<div>\n",
       "<style scoped>\n",
       "    .dataframe tbody tr th:only-of-type {\n",
       "        vertical-align: middle;\n",
       "    }\n",
       "\n",
       "    .dataframe tbody tr th {\n",
       "        vertical-align: top;\n",
       "    }\n",
       "\n",
       "    .dataframe thead th {\n",
       "        text-align: right;\n",
       "    }\n",
       "</style>\n",
       "<table border=\"1\" class=\"dataframe\">\n",
       "  <thead>\n",
       "    <tr style=\"text-align: right;\">\n",
       "      <th></th>\n",
       "      <th>cleanText</th>\n",
       "    </tr>\n",
       "  </thead>\n",
       "  <tbody>\n",
       "    <tr>\n",
       "      <th>0</th>\n",
       "      <td>[বাংলাদেশে, সফররত, বিশ্ব, বাণিজ্য, সংস্থা, ডব্...</td>\n",
       "    </tr>\n",
       "    <tr>\n",
       "      <th>1</th>\n",
       "      <td>[ইউরোপিয়ান, ফুটবলে, বয়ে, একদিকে, সংবাদমাধ্যমগু...</td>\n",
       "    </tr>\n",
       "    <tr>\n",
       "      <th>2</th>\n",
       "      <td>[বিজেপির, নেতৃত্বে, ভারতের, উত্তর, প্রদেশ, শুর...</td>\n",
       "    </tr>\n",
       "    <tr>\n",
       "      <th>3</th>\n",
       "      <td>[নারায়ণগঞ্জের, সোনারগাঁ, উপজেলার, সরকারি, প্র...</td>\n",
       "    </tr>\n",
       "    <tr>\n",
       "      <th>4</th>\n",
       "      <td>[ছাই, ছাই, ধুলো, ধুলো, আধ্যাত্মিক, ব্যবহৃত, বা...</td>\n",
       "    </tr>\n",
       "  </tbody>\n",
       "</table>\n",
       "</div>"
      ],
      "text/plain": [
       "                                           cleanText\n",
       "0  [বাংলাদেশে, সফররত, বিশ্ব, বাণিজ্য, সংস্থা, ডব্...\n",
       "1  [ইউরোপিয়ান, ফুটবলে, বয়ে, একদিকে, সংবাদমাধ্যমগু...\n",
       "2  [বিজেপির, নেতৃত্বে, ভারতের, উত্তর, প্রদেশ, শুর...\n",
       "3  [নারায়ণগঞ্জের, সোনারগাঁ, উপজেলার, সরকারি, প্র...\n",
       "4  [ছাই, ছাই, ধুলো, ধুলো, আধ্যাত্মিক, ব্যবহৃত, বা..."
      ]
     },
     "execution_count": 39,
     "metadata": {},
     "output_type": "execute_result"
    }
   ],
   "source": [
    "train_data_x.head()"
   ]
  },
  {
   "cell_type": "code",
   "execution_count": null,
   "metadata": {
    "colab": {
     "base_uri": "https://localhost:8080/"
    },
    "executionInfo": {
     "elapsed": 30,
     "status": "ok",
     "timestamp": 1634648680856,
     "user": {
      "displayName": "Md. Mahmudul Hasan Shahin",
      "photoUrl": "https://lh3.googleusercontent.com/a-/AOh14GhRx95iiEiz_iqtQvGSnh1i2sStbv9xjQgHDQcM=s64",
      "userId": "04675764273122559940"
     },
     "user_tz": -360
    },
    "id": "hXlXZyT_HktR",
    "outputId": "d6145a1f-596b-4610-ace1-99ed7575faea"
   },
   "outputs": [
    {
     "data": {
      "text/plain": [
       "(98883, 1)"
      ]
     },
     "execution_count": 40,
     "metadata": {},
     "output_type": "execute_result"
    }
   ],
   "source": [
    "train_data_x.shape # Shape of input  (160008, 15, 200) Shape of output  (160008, 9)"
   ]
  },
  {
   "cell_type": "markdown",
   "metadata": {
    "id": "m7sKBjuzj55Q"
   },
   "source": [
    "# Feature Conversion"
   ]
  },
  {
   "cell_type": "code",
   "execution_count": null,
   "metadata": {
    "colab": {
     "base_uri": "https://localhost:8080/",
     "height": 38
    },
    "executionInfo": {
     "elapsed": 28,
     "status": "ok",
     "timestamp": 1634648680857,
     "user": {
      "displayName": "Md. Mahmudul Hasan Shahin",
      "photoUrl": "https://lh3.googleusercontent.com/a-/AOh14GhRx95iiEiz_iqtQvGSnh1i2sStbv9xjQgHDQcM=s64",
      "userId": "04675764273122559940"
     },
     "user_tz": -360
    },
    "id": "BGwA8Pj_7tOo",
    "outputId": "46881b3a-7597-4da1-9a3e-8c6455667340"
   },
   "outputs": [
    {
     "data": {
      "text/html": [
       "<marquee style='width: 50%; color: red;'><b>!!! One Hot encode of Category !!!</b></marquee>"
      ],
      "text/plain": [
       "<IPython.core.display.HTML object>"
      ]
     },
     "metadata": {},
     "output_type": "display_data"
    }
   ],
   "source": [
    "%%html\n",
    "<marquee style='width: 50%; color: red;'><b>!!! One Hot encode of Category !!!</b></marquee>"
   ]
  },
  {
   "cell_type": "code",
   "execution_count": null,
   "metadata": {
    "id": "iDHhwmWXbQxQ"
   },
   "outputs": [],
   "source": [
    "train_data_y = pd.DataFrame()\n",
    "train_data_y['category'] = train_data_full['category']\n",
    "one_hot = pd.get_dummies(train_data_y['category'])\n",
    "train_data_y = train_data_y.drop('category',axis = 1)\n",
    "train_data_y = train_data_y.join(one_hot)"
   ]
  },
  {
   "cell_type": "code",
   "execution_count": null,
   "metadata": {
    "colab": {
     "base_uri": "https://localhost:8080/",
     "height": 204
    },
    "executionInfo": {
     "elapsed": 33,
     "status": "ok",
     "timestamp": 1634648680863,
     "user": {
      "displayName": "Md. Mahmudul Hasan Shahin",
      "photoUrl": "https://lh3.googleusercontent.com/a-/AOh14GhRx95iiEiz_iqtQvGSnh1i2sStbv9xjQgHDQcM=s64",
      "userId": "04675764273122559940"
     },
     "user_tz": -360
    },
    "id": "tP6GOjnkfZY4",
    "outputId": "ddbea818-aa75-4d4e-a16c-9485a0ed6687"
   },
   "outputs": [
    {
     "data": {
      "text/html": [
       "<div>\n",
       "<style scoped>\n",
       "    .dataframe tbody tr th:only-of-type {\n",
       "        vertical-align: middle;\n",
       "    }\n",
       "\n",
       "    .dataframe tbody tr th {\n",
       "        vertical-align: top;\n",
       "    }\n",
       "\n",
       "    .dataframe thead th {\n",
       "        text-align: right;\n",
       "    }\n",
       "</style>\n",
       "<table border=\"1\" class=\"dataframe\">\n",
       "  <thead>\n",
       "    <tr style=\"text-align: right;\">\n",
       "      <th></th>\n",
       "      <th>economy</th>\n",
       "      <th>education</th>\n",
       "      <th>entertainment</th>\n",
       "      <th>international</th>\n",
       "      <th>sports</th>\n",
       "      <th>state</th>\n",
       "      <th>technology</th>\n",
       "    </tr>\n",
       "  </thead>\n",
       "  <tbody>\n",
       "    <tr>\n",
       "      <th>0</th>\n",
       "      <td>1</td>\n",
       "      <td>0</td>\n",
       "      <td>0</td>\n",
       "      <td>0</td>\n",
       "      <td>0</td>\n",
       "      <td>0</td>\n",
       "      <td>0</td>\n",
       "    </tr>\n",
       "    <tr>\n",
       "      <th>1</th>\n",
       "      <td>0</td>\n",
       "      <td>0</td>\n",
       "      <td>0</td>\n",
       "      <td>0</td>\n",
       "      <td>1</td>\n",
       "      <td>0</td>\n",
       "      <td>0</td>\n",
       "    </tr>\n",
       "    <tr>\n",
       "      <th>2</th>\n",
       "      <td>0</td>\n",
       "      <td>0</td>\n",
       "      <td>0</td>\n",
       "      <td>1</td>\n",
       "      <td>0</td>\n",
       "      <td>0</td>\n",
       "      <td>0</td>\n",
       "    </tr>\n",
       "    <tr>\n",
       "      <th>3</th>\n",
       "      <td>0</td>\n",
       "      <td>0</td>\n",
       "      <td>0</td>\n",
       "      <td>0</td>\n",
       "      <td>0</td>\n",
       "      <td>1</td>\n",
       "      <td>0</td>\n",
       "    </tr>\n",
       "    <tr>\n",
       "      <th>4</th>\n",
       "      <td>0</td>\n",
       "      <td>0</td>\n",
       "      <td>0</td>\n",
       "      <td>0</td>\n",
       "      <td>1</td>\n",
       "      <td>0</td>\n",
       "      <td>0</td>\n",
       "    </tr>\n",
       "  </tbody>\n",
       "</table>\n",
       "</div>"
      ],
      "text/plain": [
       "   economy  education  entertainment  international  sports  state  technology\n",
       "0        1          0              0              0       0      0           0\n",
       "1        0          0              0              0       1      0           0\n",
       "2        0          0              0              1       0      0           0\n",
       "3        0          0              0              0       0      1           0\n",
       "4        0          0              0              0       1      0           0"
      ]
     },
     "execution_count": 43,
     "metadata": {},
     "output_type": "execute_result"
    }
   ],
   "source": [
    "train_data_y.head()"
   ]
  },
  {
   "cell_type": "code",
   "execution_count": null,
   "metadata": {
    "id": "ch7vZI69fbAw"
   },
   "outputs": [],
   "source": [
    "#fasttext_model = FastText(tokenized_lines, size=200, window=5, min_count=10)\n",
    "fasttext_model = FastText.load('Pretrained_Models/fasttext_model_20/fasttext_model.model')"
   ]
  },
  {
   "cell_type": "code",
   "execution_count": null,
   "metadata": {
    "colab": {
     "base_uri": "https://localhost:8080/",
     "height": 38
    },
    "executionInfo": {
     "elapsed": 24,
     "status": "ok",
     "timestamp": 1634648685868,
     "user": {
      "displayName": "Md. Mahmudul Hasan Shahin",
      "photoUrl": "https://lh3.googleusercontent.com/a-/AOh14GhRx95iiEiz_iqtQvGSnh1i2sStbv9xjQgHDQcM=s64",
      "userId": "04675764273122559940"
     },
     "user_tz": -360
    },
    "id": "6KaNStaUq1jy",
    "outputId": "27f17ac7-211e-4565-bf78-c44bc20c817f"
   },
   "outputs": [
    {
     "data": {
      "text/html": [
       "<marquee style='width: 50%; color: red;'><b>!!! Word2Vec Conversion !!!</b></marquee>"
      ],
      "text/plain": [
       "<IPython.core.display.HTML object>"
      ]
     },
     "metadata": {},
     "output_type": "display_data"
    }
   ],
   "source": [
    "%%html\n",
    "<marquee style='width: 50%; color: red;'><b>!!! Word2Vec Conversion !!!</b></marquee>"
   ]
  },
  {
   "cell_type": "markdown",
   "metadata": {
    "id": "S6HDFf8fnDP_"
   },
   "source": [
    "## Convert text to vector by Wort2Vec FastText model"
   ]
  },
  {
   "cell_type": "code",
   "execution_count": null,
   "metadata": {
    "id": "5TylKD8kkPVX"
   },
   "outputs": [],
   "source": [
    "inp = []\n",
    "word_to_vec_len = 350                                      # word2vec of input\n",
    "for i in range(len(train_data_full)):\n",
    "  k = len(train_data_full['cleanText'][i])\n",
    "  #print(k)\n",
    "  temp = []\n",
    "  for j in range(k):\n",
    "    try:\n",
    "      vector_a = fasttext_model.wv.get_vector(train_data_full['cleanText'][i][j])\n",
    "      temp.append(vector_a)\n",
    "    except:\n",
    "      temp.append(np.zeros((20,), dtype=np.float32))\n",
    "      continue\n",
    "  if k < word_to_vec_len:                                           # If length is smaller than 15 then fill rest with (20) * 0\n",
    "    k = word_to_vec_len - k;\n",
    "    for p in range(k):\n",
    "      temp.append(np.zeros((20,), dtype=np.float32))\n",
    "  inp.append(temp)\n"
   ]
  },
  {
   "cell_type": "code",
   "execution_count": null,
   "metadata": {
    "colab": {
     "base_uri": "https://localhost:8080/"
    },
    "executionInfo": {
     "elapsed": 17005,
     "status": "ok",
     "timestamp": 1634649003558,
     "user": {
      "displayName": "Md. Mahmudul Hasan Shahin",
      "photoUrl": "https://lh3.googleusercontent.com/a-/AOh14GhRx95iiEiz_iqtQvGSnh1i2sStbv9xjQgHDQcM=s64",
      "userId": "04675764273122559940"
     },
     "user_tz": -360
    },
    "id": "DU-uSD3qwS0w",
    "outputId": "4e3725a5-8e0c-4aaf-e0fc-f454d763331b"
   },
   "outputs": [
    {
     "name": "stdout",
     "output_type": "stream",
     "text": [
      "(90118, 350, 20)\n"
     ]
    }
   ],
   "source": [
    "print(np.shape(inp)) # (45108, 15, 200)"
   ]
  },
  {
   "cell_type": "code",
   "execution_count": null,
   "metadata": {
    "colab": {
     "base_uri": "https://localhost:8080/",
     "height": 35
    },
    "executionInfo": {
     "elapsed": 18,
     "status": "ok",
     "timestamp": 1634649003559,
     "user": {
      "displayName": "Md. Mahmudul Hasan Shahin",
      "photoUrl": "https://lh3.googleusercontent.com/a-/AOh14GhRx95iiEiz_iqtQvGSnh1i2sStbv9xjQgHDQcM=s64",
      "userId": "04675764273122559940"
     },
     "user_tz": -360
    },
    "id": "lBSxYU2_ttYI",
    "outputId": "9bee3215-096e-4516-c807-b4adb23da1c8"
   },
   "outputs": [
    {
     "data": {
      "application/vnd.google.colaboratory.intrinsic+json": {
       "type": "string"
      },
      "text/plain": [
       "'বাংলাদেশে'"
      ]
     },
     "execution_count": 48,
     "metadata": {},
     "output_type": "execute_result"
    }
   ],
   "source": [
    "train_data_full['cleanText'][0][0]"
   ]
  },
  {
   "cell_type": "code",
   "execution_count": null,
   "metadata": {
    "colab": {
     "base_uri": "https://localhost:8080/"
    },
    "executionInfo": {
     "elapsed": 13497,
     "status": "ok",
     "timestamp": 1634649017049,
     "user": {
      "displayName": "Md. Mahmudul Hasan Shahin",
      "photoUrl": "https://lh3.googleusercontent.com/a-/AOh14GhRx95iiEiz_iqtQvGSnh1i2sStbv9xjQgHDQcM=s64",
      "userId": "04675764273122559940"
     },
     "user_tz": -360
    },
    "id": "zja5api2tuoA",
    "outputId": "9cb19fcb-7f86-46ba-f77f-56cdae28f4c6"
   },
   "outputs": [
    {
     "name": "stdout",
     "output_type": "stream",
     "text": [
      "Train input X :  (90118, 350, 20)\n",
      "Train input Y :  (90118, 7)\n"
     ]
    }
   ],
   "source": [
    "print('Train input X : ',np.shape(inp))\n",
    "print('Train input Y : ',train_data_y.shape)"
   ]
  },
  {
   "cell_type": "markdown",
   "metadata": {
    "id": "ArnXIzUTnjuY"
   },
   "source": [
    "## Save data for further use"
   ]
  },
  {
   "cell_type": "code",
   "execution_count": null,
   "metadata": {
    "id": "nu6SgTqk2LqV"
   },
   "outputs": [],
   "source": [
    "# np.save('train_cleanText.npy', np.asarray(inp))\n",
    "# np.save('train_category.npy', np.asarray(train_data_y))"
   ]
  },
  {
   "cell_type": "code",
   "execution_count": null,
   "metadata": {
    "colab": {
     "base_uri": "https://localhost:8080/"
    },
    "executionInfo": {
     "elapsed": 20,
     "status": "ok",
     "timestamp": 1634649017050,
     "user": {
      "displayName": "Md. Mahmudul Hasan Shahin",
      "photoUrl": "https://lh3.googleusercontent.com/a-/AOh14GhRx95iiEiz_iqtQvGSnh1i2sStbv9xjQgHDQcM=s64",
      "userId": "04675764273122559940"
     },
     "user_tz": -360
    },
    "id": "GSPwLT1-9EDl",
    "outputId": "0a6cb29a-2591-4769-e91f-15bc0cc0201c"
   },
   "outputs": [
    {
     "name": "stdout",
     "output_type": "stream",
     "text": [
      "Bi-LSTM_Train.ipynb        Predict_Text.ipynb\n",
      "Bi-LSTM_Ult.ipynb          \u001b[0m\u001b[01;34mPretrained_Models\u001b[0m/\n",
      "Classification_Algo.ipynb  \u001b[01;34mProcess_Data\u001b[0m/\n",
      "\u001b[01;34mDataset\u001b[0m/                   \u001b[01;34mSaved_Model\u001b[0m/\n",
      "External.ipynb             Technometrics_Preprocessing.ipynb\n"
     ]
    }
   ],
   "source": [
    "%ls"
   ]
  },
  {
   "cell_type": "code",
   "execution_count": null,
   "metadata": {
    "colab": {
     "base_uri": "https://localhost:8080/"
    },
    "executionInfo": {
     "elapsed": 10,
     "status": "ok",
     "timestamp": 1634649017050,
     "user": {
      "displayName": "Md. Mahmudul Hasan Shahin",
      "photoUrl": "https://lh3.googleusercontent.com/a-/AOh14GhRx95iiEiz_iqtQvGSnh1i2sStbv9xjQgHDQcM=s64",
      "userId": "04675764273122559940"
     },
     "user_tz": -360
    },
    "id": "P0ERYi509YQ_",
    "outputId": "615a302d-14f9-40a8-b912-c88688266748"
   },
   "outputs": [
    {
     "name": "stdout",
     "output_type": "stream",
     "text": [
      "98883\n",
      "98883\n"
     ]
    }
   ],
   "source": [
    "print(len(train_data_x))\n",
    "print(len(raw_train_data))"
   ]
  },
  {
   "cell_type": "code",
   "execution_count": null,
   "metadata": {
    "colab": {
     "base_uri": "https://localhost:8080/",
     "height": 204
    },
    "executionInfo": {
     "elapsed": 14,
     "status": "ok",
     "timestamp": 1634649017630,
     "user": {
      "displayName": "Md. Mahmudul Hasan Shahin",
      "photoUrl": "https://lh3.googleusercontent.com/a-/AOh14GhRx95iiEiz_iqtQvGSnh1i2sStbv9xjQgHDQcM=s64",
      "userId": "04675764273122559940"
     },
     "user_tz": -360
    },
    "id": "dCfV68A_-P4e",
    "outputId": "da110804-af26-4ec8-e22c-02545ea41225"
   },
   "outputs": [
    {
     "data": {
      "text/html": [
       "<div>\n",
       "<style scoped>\n",
       "    .dataframe tbody tr th:only-of-type {\n",
       "        vertical-align: middle;\n",
       "    }\n",
       "\n",
       "    .dataframe tbody tr th {\n",
       "        vertical-align: top;\n",
       "    }\n",
       "\n",
       "    .dataframe thead th {\n",
       "        text-align: right;\n",
       "    }\n",
       "</style>\n",
       "<table border=\"1\" class=\"dataframe\">\n",
       "  <thead>\n",
       "    <tr style=\"text-align: right;\">\n",
       "      <th></th>\n",
       "      <th>cleanText</th>\n",
       "      <th>category</th>\n",
       "    </tr>\n",
       "  </thead>\n",
       "  <tbody>\n",
       "    <tr>\n",
       "      <th>0</th>\n",
       "      <td>[বাংলাদেশে, সফররত, বিশ্ব, বাণিজ্য, সংস্থা, ডব্...</td>\n",
       "      <td>economy</td>\n",
       "    </tr>\n",
       "    <tr>\n",
       "      <th>1</th>\n",
       "      <td>[ইউরোপিয়ান, ফুটবলে, বয়ে, একদিকে, সংবাদমাধ্যমগু...</td>\n",
       "      <td>sports</td>\n",
       "    </tr>\n",
       "    <tr>\n",
       "      <th>2</th>\n",
       "      <td>[বিজেপির, নেতৃত্বে, ভারতের, উত্তর, প্রদেশ, শুর...</td>\n",
       "      <td>international</td>\n",
       "    </tr>\n",
       "    <tr>\n",
       "      <th>3</th>\n",
       "      <td>[নারায়ণগঞ্জের, সোনারগাঁ, উপজেলার, সরকারি, প্র...</td>\n",
       "      <td>state</td>\n",
       "    </tr>\n",
       "    <tr>\n",
       "      <th>4</th>\n",
       "      <td>[ছাই, ছাই, ধুলো, ধুলো, আধ্যাত্মিক, ব্যবহৃত, বা...</td>\n",
       "      <td>sports</td>\n",
       "    </tr>\n",
       "  </tbody>\n",
       "</table>\n",
       "</div>"
      ],
      "text/plain": [
       "                                           cleanText       category\n",
       "0  [বাংলাদেশে, সফররত, বিশ্ব, বাণিজ্য, সংস্থা, ডব্...        economy\n",
       "1  [ইউরোপিয়ান, ফুটবলে, বয়ে, একদিকে, সংবাদমাধ্যমগু...         sports\n",
       "2  [বিজেপির, নেতৃত্বে, ভারতের, উত্তর, প্রদেশ, শুর...  international\n",
       "3  [নারায়ণগঞ্জের, সোনারগাঁ, উপজেলার, সরকারি, প্র...          state\n",
       "4  [ছাই, ছাই, ধুলো, ধুলো, আধ্যাত্মিক, ব্যবহৃত, বা...         sports"
      ]
     },
     "execution_count": 53,
     "metadata": {},
     "output_type": "execute_result"
    }
   ],
   "source": [
    "train_data_x['category'] = raw_train_data['category']\n",
    "train_data_x.head()"
   ]
  },
  {
   "cell_type": "code",
   "execution_count": null,
   "metadata": {
    "id": "8d7ywa0Y_Uf5"
   },
   "outputs": [],
   "source": [
    "#train_data_x.to_csv('train_data_stop.csv', encoding='utf-8', index=False)"
   ]
  },
  {
   "cell_type": "code",
   "execution_count": null,
   "metadata": {
    "colab": {
     "base_uri": "https://localhost:8080/",
     "height": 204
    },
    "executionInfo": {
     "elapsed": 8707,
     "status": "ok",
     "timestamp": 1634649026324,
     "user": {
      "displayName": "Md. Mahmudul Hasan Shahin",
      "photoUrl": "https://lh3.googleusercontent.com/a-/AOh14GhRx95iiEiz_iqtQvGSnh1i2sStbv9xjQgHDQcM=s64",
      "userId": "04675764273122559940"
     },
     "user_tz": -360
    },
    "id": "dThCZntrAGKs",
    "outputId": "d9224b6d-3d29-4d7d-e040-92d384758e8c"
   },
   "outputs": [
    {
     "data": {
      "text/html": [
       "<div>\n",
       "<style scoped>\n",
       "    .dataframe tbody tr th:only-of-type {\n",
       "        vertical-align: middle;\n",
       "    }\n",
       "\n",
       "    .dataframe tbody tr th {\n",
       "        vertical-align: top;\n",
       "    }\n",
       "\n",
       "    .dataframe thead th {\n",
       "        text-align: right;\n",
       "    }\n",
       "</style>\n",
       "<table border=\"1\" class=\"dataframe\">\n",
       "  <thead>\n",
       "    <tr style=\"text-align: right;\">\n",
       "      <th></th>\n",
       "      <th>cleanText</th>\n",
       "      <th>category</th>\n",
       "    </tr>\n",
       "  </thead>\n",
       "  <tbody>\n",
       "    <tr>\n",
       "      <th>0</th>\n",
       "      <td>['বাংলাদেশে', 'সফররত', 'বিশ্ব', 'বাণিজ্য', 'সং...</td>\n",
       "      <td>economy</td>\n",
       "    </tr>\n",
       "    <tr>\n",
       "      <th>1</th>\n",
       "      <td>['ইউরোপিয়ান', 'ফুটবলে', 'বয়ে', 'একদিকে', 'সংবা...</td>\n",
       "      <td>sports</td>\n",
       "    </tr>\n",
       "    <tr>\n",
       "      <th>2</th>\n",
       "      <td>['বিজেপির', 'নেতৃত্বে', 'ভারতের', 'উত্তর', 'প্...</td>\n",
       "      <td>international</td>\n",
       "    </tr>\n",
       "    <tr>\n",
       "      <th>3</th>\n",
       "      <td>['নারায়ণগঞ্জের', 'সোনারগাঁ', 'উপজেলার', 'সরকা...</td>\n",
       "      <td>state</td>\n",
       "    </tr>\n",
       "    <tr>\n",
       "      <th>4</th>\n",
       "      <td>['ছাই', 'ছাই', 'ধুলো', 'ধুলো', 'আধ্যাত্মিক', '...</td>\n",
       "      <td>sports</td>\n",
       "    </tr>\n",
       "  </tbody>\n",
       "</table>\n",
       "</div>"
      ],
      "text/plain": [
       "                                           cleanText       category\n",
       "0  ['বাংলাদেশে', 'সফররত', 'বিশ্ব', 'বাণিজ্য', 'সং...        economy\n",
       "1  ['ইউরোপিয়ান', 'ফুটবলে', 'বয়ে', 'একদিকে', 'সংবা...         sports\n",
       "2  ['বিজেপির', 'নেতৃত্বে', 'ভারতের', 'উত্তর', 'প্...  international\n",
       "3  ['নারায়ণগঞ্জের', 'সোনারগাঁ', 'উপজেলার', 'সরকা...          state\n",
       "4  ['ছাই', 'ছাই', 'ধুলো', 'ধুলো', 'আধ্যাত্মিক', '...         sports"
      ]
     },
     "execution_count": 55,
     "metadata": {},
     "output_type": "execute_result"
    }
   ],
   "source": [
    "train_data_x = pd.read_csv('Process_Data/train_data_stop.csv')\n",
    "train_data_x.head()"
   ]
  },
  {
   "cell_type": "code",
   "execution_count": null,
   "metadata": {
    "id": "ElZM19keorcA"
   },
   "outputs": [],
   "source": [
    "inp = train_data_full = raw_train_data = train_data_x = 0"
   ]
  },
  {
   "cell_type": "markdown",
   "metadata": {
    "id": "QLIOLlGWl_G4"
   },
   "source": [
    "# Feature engineering for Sk-Learn Classifier"
   ]
  },
  {
   "cell_type": "code",
   "execution_count": null,
   "metadata": {
    "colab": {
     "base_uri": "https://localhost:8080/",
     "height": 204
    },
    "executionInfo": {
     "elapsed": 52874,
     "status": "ok",
     "timestamp": 1634649337910,
     "user": {
      "displayName": "Md. Mahmudul Hasan Shahin",
      "photoUrl": "https://lh3.googleusercontent.com/a-/AOh14GhRx95iiEiz_iqtQvGSnh1i2sStbv9xjQgHDQcM=s64",
      "userId": "04675764273122559940"
     },
     "user_tz": -360
    },
    "id": "Ub8yyXsVl9kw",
    "outputId": "b82dfc7e-a0b3-49f6-d2a5-2ff8fa17da24"
   },
   "outputs": [
    {
     "data": {
      "text/html": [
       "<div>\n",
       "<style scoped>\n",
       "    .dataframe tbody tr th:only-of-type {\n",
       "        vertical-align: middle;\n",
       "    }\n",
       "\n",
       "    .dataframe tbody tr th {\n",
       "        vertical-align: top;\n",
       "    }\n",
       "\n",
       "    .dataframe thead th {\n",
       "        text-align: right;\n",
       "    }\n",
       "</style>\n",
       "<table border=\"1\" class=\"dataframe\">\n",
       "  <thead>\n",
       "    <tr style=\"text-align: right;\">\n",
       "      <th></th>\n",
       "      <th>category</th>\n",
       "      <th>text</th>\n",
       "      <th>cleanText</th>\n",
       "    </tr>\n",
       "  </thead>\n",
       "  <tbody>\n",
       "    <tr>\n",
       "      <th>0</th>\n",
       "      <td>economy</td>\n",
       "      <td>বাংলাদেশে সফররত বিশ্ব বাণিজ্য সংস্থা (ডব্লিউট...</td>\n",
       "      <td>বাংলাদেশে সফররত বিশ্ব বাণিজ্য সংস্থা ডব্লিউটিও...</td>\n",
       "    </tr>\n",
       "    <tr>\n",
       "      <th>1</th>\n",
       "      <td>sports</td>\n",
       "      <td>ইউরোপিয়ান ফুটবলে আজ ঝড় বয়ে যাচ্ছে। একদিকে সংবা...</td>\n",
       "      <td>ইউরোপিয়ান ফুটবলে বয়ে একদিকে সংবাদমাধ্যমগুলো নে...</td>\n",
       "    </tr>\n",
       "    <tr>\n",
       "      <th>2</th>\n",
       "      <td>international</td>\n",
       "      <td>বিজেপির নেতৃত্বে ভারতের উত্তর প্রদেশ থেকে শুরু...</td>\n",
       "      <td>বিজেপির নেতৃত্বে ভারতের উত্তর প্রদেশ শুরু বিভি...</td>\n",
       "    </tr>\n",
       "    <tr>\n",
       "      <th>3</th>\n",
       "      <td>state</td>\n",
       "      <td>নারায়ণগঞ্জের সোনারগাঁ উপজেলার একটি সরকারি প্র...</td>\n",
       "      <td>নারায়ণগঞ্জের সোনারগাঁ উপজেলার সরকারি প্রাথমিক...</td>\n",
       "    </tr>\n",
       "    <tr>\n",
       "      <th>4</th>\n",
       "      <td>sports</td>\n",
       "      <td>‘ছাই থেকে ছাই, ধুলো থেকে ধুলো...’ আধ্যাত্মিক ক...</td>\n",
       "      <td>ছাই ছাই ধুলো ধুলো আধ্যাত্মিক ব্যবহৃত বাক্যের অ...</td>\n",
       "    </tr>\n",
       "  </tbody>\n",
       "</table>\n",
       "</div>"
      ],
      "text/plain": [
       "        category  ...                                          cleanText\n",
       "0        economy  ...  বাংলাদেশে সফররত বিশ্ব বাণিজ্য সংস্থা ডব্লিউটিও...\n",
       "1         sports  ...  ইউরোপিয়ান ফুটবলে বয়ে একদিকে সংবাদমাধ্যমগুলো নে...\n",
       "2  international  ...  বিজেপির নেতৃত্বে ভারতের উত্তর প্রদেশ শুরু বিভি...\n",
       "3          state  ...  নারায়ণগঞ্জের সোনারগাঁ উপজেলার সরকারি প্রাথমিক...\n",
       "4         sports  ...  ছাই ছাই ধুলো ধুলো আধ্যাত্মিক ব্যবহৃত বাক্যের অ...\n",
       "\n",
       "[5 rows x 3 columns]"
      ]
     },
     "execution_count": 66,
     "metadata": {},
     "output_type": "execute_result"
    }
   ],
   "source": [
    "train_data = pd.read_csv('Process_Data/train_data_stop_raw.csv')\n",
    "test_data  = pd.read_csv('Process_Data/test_data_stop_raw.csv')\n",
    "train_data.head()"
   ]
  },
  {
   "cell_type": "code",
   "execution_count": null,
   "metadata": {
    "colab": {
     "base_uri": "https://localhost:8080/",
     "height": 204
    },
    "executionInfo": {
     "elapsed": 10,
     "status": "ok",
     "timestamp": 1634649337911,
     "user": {
      "displayName": "Md. Mahmudul Hasan Shahin",
      "photoUrl": "https://lh3.googleusercontent.com/a-/AOh14GhRx95iiEiz_iqtQvGSnh1i2sStbv9xjQgHDQcM=s64",
      "userId": "04675764273122559940"
     },
     "user_tz": -360
    },
    "id": "kiWdgtzsmIlI",
    "outputId": "adac9cdf-b684-4079-92ad-d558f5cd795e"
   },
   "outputs": [
    {
     "data": {
      "text/html": [
       "<div>\n",
       "<style scoped>\n",
       "    .dataframe tbody tr th:only-of-type {\n",
       "        vertical-align: middle;\n",
       "    }\n",
       "\n",
       "    .dataframe tbody tr th {\n",
       "        vertical-align: top;\n",
       "    }\n",
       "\n",
       "    .dataframe thead th {\n",
       "        text-align: right;\n",
       "    }\n",
       "</style>\n",
       "<table border=\"1\" class=\"dataframe\">\n",
       "  <thead>\n",
       "    <tr style=\"text-align: right;\">\n",
       "      <th></th>\n",
       "      <th>category</th>\n",
       "      <th>text</th>\n",
       "      <th>cleanText</th>\n",
       "    </tr>\n",
       "  </thead>\n",
       "  <tbody>\n",
       "    <tr>\n",
       "      <th>0</th>\n",
       "      <td>education</td>\n",
       "      <td>অধ্যায়-২প্রিয় পরীক্ষার্থী, আজ তথ্য ও যোগাযোগ প...</td>\n",
       "      <td>অধ্যায় প্রিয় পরীক্ষার্থী তথ্য যোগাযোগ প্রযুক্ত...</td>\n",
       "    </tr>\n",
       "    <tr>\n",
       "      <th>1</th>\n",
       "      <td>sports</td>\n",
       "      <td>স্পিন, স্পিন, স্পিন। লর্ডসে ইয়াসির শাহ্‌র লেগ ...</td>\n",
       "      <td>স্পিন স্পিন স্পিন লর্ডসে ইয়াসির শাহ্ র লেগ স্প...</td>\n",
       "    </tr>\n",
       "    <tr>\n",
       "      <th>2</th>\n",
       "      <td>international</td>\n",
       "      <td>সিরিয়ার উত্তর-পশ্চিমাঞ্চলে গতকাল রোববার বিমান...</td>\n",
       "      <td>সিরিয়ার উত্তর পশ্চিমাঞ্চলে গতকাল রোববার বিমান...</td>\n",
       "    </tr>\n",
       "    <tr>\n",
       "      <th>3</th>\n",
       "      <td>international</td>\n",
       "      <td>দক্ষিণ আফ্রিকার কেপটাউন বিশ্ববিদ্যালয়ের (ইউসিট...</td>\n",
       "      <td>দক্ষিণ আফ্রিকার কেপটাউন বিশ্ববিদ্যালয়ের ইউসিটি...</td>\n",
       "    </tr>\n",
       "    <tr>\n",
       "      <th>4</th>\n",
       "      <td>technology</td>\n",
       "      <td>সহজে ডিজিটাল আর্থিক সেবা দিতে অ্যাপ ও ডিজিটাল ...</td>\n",
       "      <td>সহজে ডিজিটাল আর্থিক সেবা অ্যাপ ডিজিটাল কেওয়াইস...</td>\n",
       "    </tr>\n",
       "  </tbody>\n",
       "</table>\n",
       "</div>"
      ],
      "text/plain": [
       "        category  ...                                          cleanText\n",
       "0      education  ...  অধ্যায় প্রিয় পরীক্ষার্থী তথ্য যোগাযোগ প্রযুক্ত...\n",
       "1         sports  ...  স্পিন স্পিন স্পিন লর্ডসে ইয়াসির শাহ্ র লেগ স্প...\n",
       "2  international  ...  সিরিয়ার উত্তর পশ্চিমাঞ্চলে গতকাল রোববার বিমান...\n",
       "3  international  ...  দক্ষিণ আফ্রিকার কেপটাউন বিশ্ববিদ্যালয়ের ইউসিটি...\n",
       "4     technology  ...  সহজে ডিজিটাল আর্থিক সেবা অ্যাপ ডিজিটাল কেওয়াইস...\n",
       "\n",
       "[5 rows x 3 columns]"
      ]
     },
     "execution_count": 67,
     "metadata": {},
     "output_type": "execute_result"
    }
   ],
   "source": [
    "test_data.head()"
   ]
  },
  {
   "cell_type": "code",
   "execution_count": null,
   "metadata": {
    "colab": {
     "base_uri": "https://localhost:8080/"
    },
    "executionInfo": {
     "elapsed": 2442,
     "status": "ok",
     "timestamp": 1634649340345,
     "user": {
      "displayName": "Md. Mahmudul Hasan Shahin",
      "photoUrl": "https://lh3.googleusercontent.com/a-/AOh14GhRx95iiEiz_iqtQvGSnh1i2sStbv9xjQgHDQcM=s64",
      "userId": "04675764273122559940"
     },
     "user_tz": -360
    },
    "id": "F0d5RCzUmLAw",
    "outputId": "e838a915-88af-40a4-da86-6ef4a0ffd161"
   },
   "outputs": [
    {
     "name": "stdout",
     "output_type": "stream",
     "text": [
      "Total Row length less then 351 :  90118\n"
     ]
    }
   ],
   "source": [
    "column_names = ['cleanText', 'category']\n",
    "\n",
    "train_data_full = pd.DataFrame(columns = column_names)\n",
    "\n",
    "cnt = 0\n",
    "j = 0\n",
    "cleanText = []\n",
    "category = []\n",
    "\n",
    "for i in train_data['cleanText'].apply(lambda x: len(x.split(' '))):\n",
    "\n",
    "  if i < 350:\n",
    "    cleanText.append(train_data['cleanText'][j])\n",
    "    category.append(train_data['category'][j])     \n",
    "    cnt +=1\n",
    "\n",
    "  j += 1\n",
    "  \n",
    "train_data_full['cleanText'] = cleanText\n",
    "train_data_full['category'] = category\n",
    "\n",
    "categor = cleanText = 0\n",
    "\n",
    "print('Total Row length less then 351 : ',cnt)"
   ]
  },
  {
   "cell_type": "code",
   "execution_count": null,
   "metadata": {
    "colab": {
     "base_uri": "https://localhost:8080/"
    },
    "executionInfo": {
     "elapsed": 2192,
     "status": "ok",
     "timestamp": 1634649342518,
     "user": {
      "displayName": "Md. Mahmudul Hasan Shahin",
      "photoUrl": "https://lh3.googleusercontent.com/a-/AOh14GhRx95iiEiz_iqtQvGSnh1i2sStbv9xjQgHDQcM=s64",
      "userId": "04675764273122559940"
     },
     "user_tz": -360
    },
    "id": "RV_I6fjsmPrQ",
    "outputId": "f060c7c7-5e7a-44d6-94ab-164334397eff"
   },
   "outputs": [
    {
     "name": "stdout",
     "output_type": "stream",
     "text": [
      "Total Row length less then 351 :  90233\n"
     ]
    }
   ],
   "source": [
    "column_names = ['cleanText', 'category']\n",
    "\n",
    "test_data_full = pd.DataFrame(columns = column_names)\n",
    "\n",
    "cnt = 0\n",
    "j = 0\n",
    "cleanText = []\n",
    "category = []\n",
    "\n",
    "for i in test_data['cleanText'].apply(lambda x: len(x.split(' '))):\n",
    "\n",
    "  if i < 350:\n",
    "    cleanText.append(test_data['cleanText'][j])\n",
    "    category.append(test_data['category'][j])     \n",
    "    cnt +=1\n",
    "\n",
    "  j += 1\n",
    "  \n",
    "test_data_full['cleanText'] = cleanText\n",
    "test_data_full['category'] = category\n",
    "\n",
    "categor = cleanText = 0\n",
    "\n",
    "print('Total Row length less then 351 : ',cnt)"
   ]
  },
  {
   "cell_type": "markdown",
   "metadata": {
    "id": "fs85HMLxmY93"
   },
   "source": [
    "##Feature Conversion"
   ]
  },
  {
   "cell_type": "markdown",
   "metadata": {
    "id": "p-opK9Z1mnLP"
   },
   "source": [
    "### Tf-IDf of X_train - X_test"
   ]
  },
  {
   "cell_type": "code",
   "execution_count": null,
   "metadata": {
    "id": "czJWYOFurx9Y"
   },
   "outputs": [],
   "source": [
    "from sklearn.feature_extraction.text import TfidfVectorizer\n",
    "from sklearn import model_selection, preprocessing"
   ]
  },
  {
   "cell_type": "code",
   "execution_count": null,
   "metadata": {
    "id": "d7mDvYI4mUrv"
   },
   "outputs": [],
   "source": [
    "tfidf_vect = TfidfVectorizer(analyzer='word', token_pattern=r'\\w{1,}', max_features=5000)\n",
    "tfidf_vect.fit(train_data_full['cleanText'])\n",
    "\n",
    "xtrain_tfidf = tfidf_vect.transform(train_data_full['cleanText'])\n",
    "xvalid_tfidf = tfidf_vect.transform(test_data_full['cleanText'])"
   ]
  },
  {
   "cell_type": "code",
   "execution_count": null,
   "metadata": {
    "colab": {
     "base_uri": "https://localhost:8080/"
    },
    "executionInfo": {
     "elapsed": 352,
     "status": "ok",
     "timestamp": 1634649461420,
     "user": {
      "displayName": "Md. Mahmudul Hasan Shahin",
      "photoUrl": "https://lh3.googleusercontent.com/a-/AOh14GhRx95iiEiz_iqtQvGSnh1i2sStbv9xjQgHDQcM=s64",
      "userId": "04675764273122559940"
     },
     "user_tz": -360
    },
    "id": "baiu5tHrsvsA",
    "outputId": "c2304db9-b1b1-4394-83f2-2c23ccd820be"
   },
   "outputs": [
    {
     "data": {
      "text/plain": [
       "(90118, 5000)"
      ]
     },
     "execution_count": 75,
     "metadata": {},
     "output_type": "execute_result"
    }
   ],
   "source": [
    "np.shape(xtrain_tfidf)"
   ]
  },
  {
   "cell_type": "markdown",
   "metadata": {
    "id": "38D8pNogmx93"
   },
   "source": [
    "### Lebel encoding of Y_train, Y_test"
   ]
  },
  {
   "cell_type": "code",
   "execution_count": null,
   "metadata": {
    "id": "xLLGvohQmW2I"
   },
   "outputs": [],
   "source": [
    "encoder = preprocessing.LabelEncoder()\n",
    "\n",
    "train_y = encoder.fit_transform(train_data_full['category'])\n",
    "valid_y = encoder.fit_transform(test_data_full['category'])"
   ]
  },
  {
   "cell_type": "code",
   "execution_count": null,
   "metadata": {
    "colab": {
     "base_uri": "https://localhost:8080/"
    },
    "executionInfo": {
     "elapsed": 378,
     "status": "ok",
     "timestamp": 1634649502991,
     "user": {
      "displayName": "Md. Mahmudul Hasan Shahin",
      "photoUrl": "https://lh3.googleusercontent.com/a-/AOh14GhRx95iiEiz_iqtQvGSnh1i2sStbv9xjQgHDQcM=s64",
      "userId": "04675764273122559940"
     },
     "user_tz": -360
    },
    "id": "nL20_ekss4Fn",
    "outputId": "e805ed42-6a19-439b-879e-fccf7c07ee68"
   },
   "outputs": [
    {
     "data": {
      "text/plain": [
       "(90118,)"
      ]
     },
     "execution_count": 78,
     "metadata": {},
     "output_type": "execute_result"
    }
   ],
   "source": [
    "np.shape(train_y)"
   ]
  },
  {
   "cell_type": "markdown",
   "metadata": {
    "id": "_Oytc4DpN4-w"
   },
   "source": [
    "\n",
    "# Test Data Preprocess All in one"
   ]
  },
  {
   "cell_type": "code",
   "execution_count": null,
   "metadata": {
    "id": "aOLDkY7lAeoX"
   },
   "outputs": [],
   "source": [
    "%%script false\n",
    "stop_words = pd.read_csv('Dataset/bangla_stop_word_471.csv')\n",
    "raw_test_data['cleanText'] = raw_test_data['cleanText'].apply(lambda x: \" \".join(x for x in x.split() if x not in stop_words['stop_word']))\n",
    "\n",
    "#raw_test_data.to_csv('test_data_stop_raw.csv', encoding='utf-8', index=False)    \n",
    "test_data_x = pd.DataFrame()\n",
    "test_data_x['cleanText'] = raw_test_data['cleanText'].apply(lambda x: x.split(' '))\n",
    "\n",
    "column_names = ['cleanText', 'category']\n",
    "\n",
    "test_data_full = pd.DataFrame(columns = column_names)\n",
    "\n",
    "cnt = 0\n",
    "j = 0\n",
    "cleanText = []\n",
    "category = []\n",
    "\n",
    "for i in test_data_x['cleanText'].apply(lambda x: len(x)):\n",
    "\n",
    "  if i < 350:\n",
    "    cleanText.append(test_data_x['cleanText'][j])\n",
    "    category.append(raw_test_data['category'][j])     \n",
    "    cnt +=1\n",
    "\n",
    "  j += 1\n",
    "  \n",
    "test_data_full['cleanText'] = cleanText\n",
    "test_data_full['category'] = category\n",
    "\n",
    "category = cleanText = 0\n",
    "\n",
    "print('Total Row length less then 351 : ',cnt)\n",
    "\n",
    "for i in test_data_full['cleanText']:\n",
    "  if len(i) >= 350 :\n",
    "    print(len(i))\n",
    "    print('problem')\n",
    "    break\n",
    "\n",
    "\n",
    "#test_data_full.to_csv('test_data_stop_350.csv', encoding='utf-8', index=False)\n",
    "\n",
    "test_data_y = pd.DataFrame()\n",
    "test_data_y['category'] = test_data_full['category']\n",
    "one_hot = pd.get_dummies(test_data_y['category'])\n",
    "test_data_y = test_data_y.drop('category',axis = 1)\n",
    "test_data_y = test_data_y.join(one_hot)\n",
    "\n",
    "fasttext_model = FastText.load('Pretrained_Models/fasttext_model_20/fasttext_model.model')\n",
    "\n",
    "inp = []\n",
    "word_to_vec_len = 350                                               # word2vec of input\n",
    "for i in range(len(test_data_full)):\n",
    "  k = len(test_data_full['cleanText'][i])\n",
    "  #print(k)\n",
    "  temp = []\n",
    "  for j in range(k):\n",
    "    try:\n",
    "      vector_a = fasttext_model.wv.get_vector(test_data_full['cleanText'][i][j])\n",
    "      temp.append(vector_a)\n",
    "    except:\n",
    "      temp.append(np.zeros((20,), dtype=np.float32))\n",
    "      continue\n",
    "  if k < word_to_vec_len:                                           # If length is smaller than 15 then fill rest with (20) * 0\n",
    "    k = word_to_vec_len - k;\n",
    "    for p in range(k):\n",
    "      temp.append(np.zeros((20,), dtype=np.float32))\n",
    "  inp.append(temp)\n",
    "\n",
    "print('Test input X : ',np.shape(inp))\n",
    "print('Test input Y : ',test_data_y.shape)\n",
    "\n",
    "# Save to file\n",
    "print('Save to file ...')\n",
    "test_data_x['category'] = raw_test_data['category']\n",
    "\n",
    "# test_data_x.to_csv('test_data_stop.csv', encoding='utf-8', index=False)\n",
    "# np.save('test_cleanText.npy', np.asarray(inp))\n",
    "# np.save('test_category.npy', np.asarray(test_data_y))\n"
   ]
  },
  {
   "cell_type": "code",
   "execution_count": null,
   "metadata": {
    "id": "NCa1KNmriLGk"
   },
   "outputs": [],
   "source": []
  }
 ],
 "metadata": {
  "colab": {
   "authorship_tag": "ABX9TyONzdR3F0tJPj2VLvpZZ3xn",
   "collapsed_sections": [],
   "mount_file_id": "1kM2Q7uD8lF_vQSiU5_Yq3gioAKHg7_21",
   "name": "Text_Data_Preprocessing.ipynb",
   "provenance": [],
   "toc_visible": true
  },
  "kernelspec": {
   "display_name": "Python 3",
   "language": "python",
   "name": "python3"
  },
  "language_info": {
   "codemirror_mode": {
    "name": "ipython",
    "version": 3
   },
   "file_extension": ".py",
   "mimetype": "text/x-python",
   "name": "python",
   "nbconvert_exporter": "python",
   "pygments_lexer": "ipython3",
   "version": "3.8.8"
  }
 },
 "nbformat": 4,
 "nbformat_minor": 4
}
