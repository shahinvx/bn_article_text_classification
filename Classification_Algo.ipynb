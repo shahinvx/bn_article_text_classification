{
 "cells": [
  {
   "cell_type": "code",
   "execution_count": null,
   "metadata": {
    "colab": {
     "base_uri": "https://localhost:8080/"
    },
    "executionInfo": {
     "elapsed": 1128,
     "status": "ok",
     "timestamp": 1634623648846,
     "user": {
      "displayName": "Md. Mahmudul Hasan Shahin",
      "photoUrl": "https://lh3.googleusercontent.com/a-/AOh14GhRx95iiEiz_iqtQvGSnh1i2sStbv9xjQgHDQcM=s64",
      "userId": "04675764273122559940"
     },
     "user_tz": -360
    },
    "id": "ifgIKraCranO",
    "outputId": "0736a50f-c6c4-4ef8-f545-1605ebec3ad8"
   },
   "outputs": [
    {
     "name": "stdout",
     "output_type": "stream",
     "text": [
      "/content/drive/MyDrive/Google Colab/NLP/Technometrics\n",
      "Bi-LSTM_Train.ipynb        file_hist.json\n",
      "Bi-LSTM_Ult.ipynb          Predict_Text.ipynb\n",
      "Classification_Algo.ipynb  \u001b[0m\u001b[01;34mPretrained_Models\u001b[0m/\n",
      "\u001b[01;34mDataset\u001b[0m/                   \u001b[01;34mProcess_Data\u001b[0m/\n",
      "External.ipynb             \u001b[01;34mSaved_Model\u001b[0m/\n",
      "file_hist_2.json           Technometrics_Preprocessing.ipynb\n"
     ]
    }
   ],
   "source": [
    "%%script false\n",
    "%cd /content/drive/MyDrive/Google Colab/NLP/Technometrics\n",
    "%ls"
   ]
  },
  {
   "cell_type": "code",
   "execution_count": null,
   "metadata": {
    "id": "pr2z7iMRs2J0"
   },
   "outputs": [],
   "source": [
    "import pandas as pd\n",
    "import numpy as np\n",
    "from statistics import mean, mode, median\n",
    "import re\n",
    "import pickle\n",
    "\n",
    "import seaborn as sns\n",
    "import matplotlib.pyplot as plt\n",
    "sns.set_theme(style=\"ticks\", color_codes=True)\n",
    "\n",
    "from gensim.models import FastText\n",
    "from sklearn.model_selection import train_test_split\n",
    "\n",
    "from sklearn.preprocessing import scale, MinMaxScaler\n",
    "from tensorflow.keras.utils import to_categorical \n",
    "\n",
    "from sklearn.metrics import accuracy_score, log_loss, average_precision_score, f1_score, plot_confusion_matrix, plot_precision_recall_curve, plot_roc_curve\n",
    "from sklearn.metrics import precision_recall_fscore_support as score\n",
    "from sklearn.linear_model import LogisticRegression, Perceptron, SGDClassifier\n",
    "from sklearn.svm import SVC, LinearSVC, NuSVC\n",
    "from sklearn.ensemble import RandomForestClassifier\n",
    "from sklearn.neighbors import KNeighborsClassifier\n",
    "from sklearn.naive_bayes import GaussianNB\n",
    "from sklearn.tree import DecisionTreeClassifier\n",
    "from sklearn.feature_extraction.text import TfidfVectorizer\n",
    "\n",
    "%matplotlib inline"
   ]
  },
  {
   "cell_type": "code",
   "execution_count": null,
   "metadata": {
    "colab": {
     "base_uri": "https://localhost:8080/"
    },
    "executionInfo": {
     "elapsed": 10,
     "status": "ok",
     "timestamp": 1634623652643,
     "user": {
      "displayName": "Md. Mahmudul Hasan Shahin",
      "photoUrl": "https://lh3.googleusercontent.com/a-/AOh14GhRx95iiEiz_iqtQvGSnh1i2sStbv9xjQgHDQcM=s64",
      "userId": "04675764273122559940"
     },
     "user_tz": -360
    },
    "id": "Pm6XTeaSdlvj",
    "outputId": "2f763435-b6c8-49b7-97d1-5893dd2f9534"
   },
   "outputs": [
    {
     "name": "stdout",
     "output_type": "stream",
     "text": [
      "test_category.npy       test_data_stop_raw.csv   train_data_stop.csv\n",
      "test_cleanText.npy      train_category.npy       train_data_stop_raw.csv\n",
      "test_data_stop_350.csv  train_cleanText.npy\n",
      "test_data_stop.csv      train_data_stop_350.csv\n"
     ]
    }
   ],
   "source": [
    "%ls Process_Data"
   ]
  },
  {
   "cell_type": "code",
   "execution_count": null,
   "metadata": {
    "colab": {
     "base_uri": "https://localhost:8080/",
     "height": 204
    },
    "executionInfo": {
     "elapsed": 33328,
     "status": "ok",
     "timestamp": 1634623685966,
     "user": {
      "displayName": "Md. Mahmudul Hasan Shahin",
      "photoUrl": "https://lh3.googleusercontent.com/a-/AOh14GhRx95iiEiz_iqtQvGSnh1i2sStbv9xjQgHDQcM=s64",
      "userId": "04675764273122559940"
     },
     "user_tz": -360
    },
    "id": "RKmyntk_d1_L",
    "outputId": "a26b4e98-cd82-4120-dc92-72c98b84ccb4"
   },
   "outputs": [
    {
     "data": {
      "text/html": [
       "<div>\n",
       "<style scoped>\n",
       "    .dataframe tbody tr th:only-of-type {\n",
       "        vertical-align: middle;\n",
       "    }\n",
       "\n",
       "    .dataframe tbody tr th {\n",
       "        vertical-align: top;\n",
       "    }\n",
       "\n",
       "    .dataframe thead th {\n",
       "        text-align: right;\n",
       "    }\n",
       "</style>\n",
       "<table border=\"1\" class=\"dataframe\">\n",
       "  <thead>\n",
       "    <tr style=\"text-align: right;\">\n",
       "      <th></th>\n",
       "      <th>category</th>\n",
       "      <th>text</th>\n",
       "      <th>cleanText</th>\n",
       "    </tr>\n",
       "  </thead>\n",
       "  <tbody>\n",
       "    <tr>\n",
       "      <th>0</th>\n",
       "      <td>economy</td>\n",
       "      <td>বাংলাদেশে সফররত বিশ্ব বাণিজ্য সংস্থা (ডব্লিউট...</td>\n",
       "      <td>বাংলাদেশে সফররত বিশ্ব বাণিজ্য সংস্থা ডব্লিউটিও...</td>\n",
       "    </tr>\n",
       "    <tr>\n",
       "      <th>1</th>\n",
       "      <td>sports</td>\n",
       "      <td>ইউরোপিয়ান ফুটবলে আজ ঝড় বয়ে যাচ্ছে। একদিকে সংবা...</td>\n",
       "      <td>ইউরোপিয়ান ফুটবলে বয়ে একদিকে সংবাদমাধ্যমগুলো নে...</td>\n",
       "    </tr>\n",
       "    <tr>\n",
       "      <th>2</th>\n",
       "      <td>international</td>\n",
       "      <td>বিজেপির নেতৃত্বে ভারতের উত্তর প্রদেশ থেকে শুরু...</td>\n",
       "      <td>বিজেপির নেতৃত্বে ভারতের উত্তর প্রদেশ শুরু বিভি...</td>\n",
       "    </tr>\n",
       "    <tr>\n",
       "      <th>3</th>\n",
       "      <td>state</td>\n",
       "      <td>নারায়ণগঞ্জের সোনারগাঁ উপজেলার একটি সরকারি প্র...</td>\n",
       "      <td>নারায়ণগঞ্জের সোনারগাঁ উপজেলার সরকারি প্রাথমিক...</td>\n",
       "    </tr>\n",
       "    <tr>\n",
       "      <th>4</th>\n",
       "      <td>sports</td>\n",
       "      <td>‘ছাই থেকে ছাই, ধুলো থেকে ধুলো...’ আধ্যাত্মিক ক...</td>\n",
       "      <td>ছাই ছাই ধুলো ধুলো আধ্যাত্মিক ব্যবহৃত বাক্যের অ...</td>\n",
       "    </tr>\n",
       "  </tbody>\n",
       "</table>\n",
       "</div>"
      ],
      "text/plain": [
       "        category  ...                                          cleanText\n",
       "0        economy  ...  বাংলাদেশে সফররত বিশ্ব বাণিজ্য সংস্থা ডব্লিউটিও...\n",
       "1         sports  ...  ইউরোপিয়ান ফুটবলে বয়ে একদিকে সংবাদমাধ্যমগুলো নে...\n",
       "2  international  ...  বিজেপির নেতৃত্বে ভারতের উত্তর প্রদেশ শুরু বিভি...\n",
       "3          state  ...  নারায়ণগঞ্জের সোনারগাঁ উপজেলার সরকারি প্রাথমিক...\n",
       "4         sports  ...  ছাই ছাই ধুলো ধুলো আধ্যাত্মিক ব্যবহৃত বাক্যের অ...\n",
       "\n",
       "[5 rows x 3 columns]"
      ]
     },
     "execution_count": 5,
     "metadata": {},
     "output_type": "execute_result"
    }
   ],
   "source": [
    "train_data = pd.read_csv('Process_Data/train_data_stop_raw.csv')\n",
    "test_data  = pd.read_csv('Process_Data/test_data_stop_raw.csv')\n",
    "train_data.head()"
   ]
  },
  {
   "cell_type": "code",
   "execution_count": null,
   "metadata": {
    "colab": {
     "base_uri": "https://localhost:8080/",
     "height": 204
    },
    "executionInfo": {
     "elapsed": 10,
     "status": "ok",
     "timestamp": 1634623685967,
     "user": {
      "displayName": "Md. Mahmudul Hasan Shahin",
      "photoUrl": "https://lh3.googleusercontent.com/a-/AOh14GhRx95iiEiz_iqtQvGSnh1i2sStbv9xjQgHDQcM=s64",
      "userId": "04675764273122559940"
     },
     "user_tz": -360
    },
    "id": "lQ_GChuX39Zt",
    "outputId": "006471f9-0d61-4dda-88f0-64288c9dc68a"
   },
   "outputs": [
    {
     "data": {
      "text/html": [
       "<div>\n",
       "<style scoped>\n",
       "    .dataframe tbody tr th:only-of-type {\n",
       "        vertical-align: middle;\n",
       "    }\n",
       "\n",
       "    .dataframe tbody tr th {\n",
       "        vertical-align: top;\n",
       "    }\n",
       "\n",
       "    .dataframe thead th {\n",
       "        text-align: right;\n",
       "    }\n",
       "</style>\n",
       "<table border=\"1\" class=\"dataframe\">\n",
       "  <thead>\n",
       "    <tr style=\"text-align: right;\">\n",
       "      <th></th>\n",
       "      <th>category</th>\n",
       "      <th>text</th>\n",
       "      <th>cleanText</th>\n",
       "    </tr>\n",
       "  </thead>\n",
       "  <tbody>\n",
       "    <tr>\n",
       "      <th>0</th>\n",
       "      <td>education</td>\n",
       "      <td>অধ্যায়-২প্রিয় পরীক্ষার্থী, আজ তথ্য ও যোগাযোগ প...</td>\n",
       "      <td>অধ্যায় প্রিয় পরীক্ষার্থী তথ্য যোগাযোগ প্রযুক্ত...</td>\n",
       "    </tr>\n",
       "    <tr>\n",
       "      <th>1</th>\n",
       "      <td>sports</td>\n",
       "      <td>স্পিন, স্পিন, স্পিন। লর্ডসে ইয়াসির শাহ্‌র লেগ ...</td>\n",
       "      <td>স্পিন স্পিন স্পিন লর্ডসে ইয়াসির শাহ্ র লেগ স্প...</td>\n",
       "    </tr>\n",
       "    <tr>\n",
       "      <th>2</th>\n",
       "      <td>international</td>\n",
       "      <td>সিরিয়ার উত্তর-পশ্চিমাঞ্চলে গতকাল রোববার বিমান...</td>\n",
       "      <td>সিরিয়ার উত্তর পশ্চিমাঞ্চলে গতকাল রোববার বিমান...</td>\n",
       "    </tr>\n",
       "    <tr>\n",
       "      <th>3</th>\n",
       "      <td>international</td>\n",
       "      <td>দক্ষিণ আফ্রিকার কেপটাউন বিশ্ববিদ্যালয়ের (ইউসিট...</td>\n",
       "      <td>দক্ষিণ আফ্রিকার কেপটাউন বিশ্ববিদ্যালয়ের ইউসিটি...</td>\n",
       "    </tr>\n",
       "    <tr>\n",
       "      <th>4</th>\n",
       "      <td>technology</td>\n",
       "      <td>সহজে ডিজিটাল আর্থিক সেবা দিতে অ্যাপ ও ডিজিটাল ...</td>\n",
       "      <td>সহজে ডিজিটাল আর্থিক সেবা অ্যাপ ডিজিটাল কেওয়াইস...</td>\n",
       "    </tr>\n",
       "  </tbody>\n",
       "</table>\n",
       "</div>"
      ],
      "text/plain": [
       "        category  ...                                          cleanText\n",
       "0      education  ...  অধ্যায় প্রিয় পরীক্ষার্থী তথ্য যোগাযোগ প্রযুক্ত...\n",
       "1         sports  ...  স্পিন স্পিন স্পিন লর্ডসে ইয়াসির শাহ্ র লেগ স্প...\n",
       "2  international  ...  সিরিয়ার উত্তর পশ্চিমাঞ্চলে গতকাল রোববার বিমান...\n",
       "3  international  ...  দক্ষিণ আফ্রিকার কেপটাউন বিশ্ববিদ্যালয়ের ইউসিটি...\n",
       "4     technology  ...  সহজে ডিজিটাল আর্থিক সেবা অ্যাপ ডিজিটাল কেওয়াইস...\n",
       "\n",
       "[5 rows x 3 columns]"
      ]
     },
     "execution_count": 6,
     "metadata": {},
     "output_type": "execute_result"
    }
   ],
   "source": [
    "test_data.head()"
   ]
  },
  {
   "cell_type": "markdown",
   "metadata": {
    "id": "iV2gVVeVT4cP"
   },
   "source": [
    "# Feature Engineering"
   ]
  },
  {
   "cell_type": "code",
   "execution_count": null,
   "metadata": {
    "colab": {
     "base_uri": "https://localhost:8080/"
    },
    "executionInfo": {
     "elapsed": 2293,
     "status": "ok",
     "timestamp": 1634623688252,
     "user": {
      "displayName": "Md. Mahmudul Hasan Shahin",
      "photoUrl": "https://lh3.googleusercontent.com/a-/AOh14GhRx95iiEiz_iqtQvGSnh1i2sStbv9xjQgHDQcM=s64",
      "userId": "04675764273122559940"
     },
     "user_tz": -360
    },
    "id": "esr6eAYD1klc",
    "outputId": "1baefa2a-35a4-42d7-aec1-3efd7126852c"
   },
   "outputs": [
    {
     "name": "stdout",
     "output_type": "stream",
     "text": [
      "Total Row length less then 351 :  90118\n"
     ]
    }
   ],
   "source": [
    "column_names = ['cleanText', 'category']\n",
    "\n",
    "train_data_full = pd.DataFrame(columns = column_names)\n",
    "\n",
    "cnt = 0\n",
    "j = 0\n",
    "cleanText = []\n",
    "category = []\n",
    "\n",
    "for i in train_data['cleanText'].apply(lambda x: len(x.split(' '))):\n",
    "\n",
    "  if i < 350:\n",
    "    cleanText.append(train_data['cleanText'][j])\n",
    "    category.append(train_data['category'][j])     \n",
    "    cnt +=1\n",
    "\n",
    "  j += 1\n",
    "  \n",
    "train_data_full['cleanText'] = cleanText\n",
    "train_data_full['category'] = category\n",
    "\n",
    "categor = cleanText = 0\n",
    "\n",
    "print('Total Row length less then 351 : ',cnt)"
   ]
  },
  {
   "cell_type": "code",
   "execution_count": null,
   "metadata": {
    "colab": {
     "base_uri": "https://localhost:8080/"
    },
    "executionInfo": {
     "elapsed": 2804,
     "status": "ok",
     "timestamp": 1634623691052,
     "user": {
      "displayName": "Md. Mahmudul Hasan Shahin",
      "photoUrl": "https://lh3.googleusercontent.com/a-/AOh14GhRx95iiEiz_iqtQvGSnh1i2sStbv9xjQgHDQcM=s64",
      "userId": "04675764273122559940"
     },
     "user_tz": -360
    },
    "id": "C0Qh91Sd5RVz",
    "outputId": "88993c62-1186-4dba-ad57-d39bde0762ca"
   },
   "outputs": [
    {
     "name": "stdout",
     "output_type": "stream",
     "text": [
      "Total Row length less then 351 :  90233\n"
     ]
    }
   ],
   "source": [
    "column_names = ['cleanText', 'category']\n",
    "\n",
    "test_data_full = pd.DataFrame(columns = column_names)\n",
    "\n",
    "cnt = 0\n",
    "j = 0\n",
    "cleanText = []\n",
    "category = []\n",
    "\n",
    "for i in test_data['cleanText'].apply(lambda x: len(x.split(' '))):\n",
    "\n",
    "  if i < 350:\n",
    "    cleanText.append(test_data['cleanText'][j])\n",
    "    category.append(test_data['category'][j])     \n",
    "    cnt +=1\n",
    "\n",
    "  j += 1\n",
    "  \n",
    "test_data_full['cleanText'] = cleanText\n",
    "test_data_full['category'] = category\n",
    "\n",
    "categor = cleanText = 0\n",
    "\n",
    "print('Total Row length less then 351 : ',cnt)"
   ]
  },
  {
   "cell_type": "code",
   "execution_count": null,
   "metadata": {
    "colab": {
     "base_uri": "https://localhost:8080/",
     "height": 204
    },
    "executionInfo": {
     "elapsed": 13,
     "status": "ok",
     "timestamp": 1634623691053,
     "user": {
      "displayName": "Md. Mahmudul Hasan Shahin",
      "photoUrl": "https://lh3.googleusercontent.com/a-/AOh14GhRx95iiEiz_iqtQvGSnh1i2sStbv9xjQgHDQcM=s64",
      "userId": "04675764273122559940"
     },
     "user_tz": -360
    },
    "id": "Ii7eDppl2zQV",
    "outputId": "a0d90537-c6f1-46b2-8fd6-1c03be57b582"
   },
   "outputs": [
    {
     "data": {
      "text/html": [
       "<div>\n",
       "<style scoped>\n",
       "    .dataframe tbody tr th:only-of-type {\n",
       "        vertical-align: middle;\n",
       "    }\n",
       "\n",
       "    .dataframe tbody tr th {\n",
       "        vertical-align: top;\n",
       "    }\n",
       "\n",
       "    .dataframe thead th {\n",
       "        text-align: right;\n",
       "    }\n",
       "</style>\n",
       "<table border=\"1\" class=\"dataframe\">\n",
       "  <thead>\n",
       "    <tr style=\"text-align: right;\">\n",
       "      <th></th>\n",
       "      <th>cleanText</th>\n",
       "      <th>category</th>\n",
       "    </tr>\n",
       "  </thead>\n",
       "  <tbody>\n",
       "    <tr>\n",
       "      <th>0</th>\n",
       "      <td>বাংলাদেশে সফররত বিশ্ব বাণিজ্য সংস্থা ডব্লিউটিও...</td>\n",
       "      <td>economy</td>\n",
       "    </tr>\n",
       "    <tr>\n",
       "      <th>1</th>\n",
       "      <td>ইউরোপিয়ান ফুটবলে বয়ে একদিকে সংবাদমাধ্যমগুলো নে...</td>\n",
       "      <td>sports</td>\n",
       "    </tr>\n",
       "    <tr>\n",
       "      <th>2</th>\n",
       "      <td>বিজেপির নেতৃত্বে ভারতের উত্তর প্রদেশ শুরু বিভি...</td>\n",
       "      <td>international</td>\n",
       "    </tr>\n",
       "    <tr>\n",
       "      <th>3</th>\n",
       "      <td>নারায়ণগঞ্জের সোনারগাঁ উপজেলার সরকারি প্রাথমিক...</td>\n",
       "      <td>state</td>\n",
       "    </tr>\n",
       "    <tr>\n",
       "      <th>4</th>\n",
       "      <td>ছাই ছাই ধুলো ধুলো আধ্যাত্মিক ব্যবহৃত বাক্যের অ...</td>\n",
       "      <td>sports</td>\n",
       "    </tr>\n",
       "  </tbody>\n",
       "</table>\n",
       "</div>"
      ],
      "text/plain": [
       "                                           cleanText       category\n",
       "0  বাংলাদেশে সফররত বিশ্ব বাণিজ্য সংস্থা ডব্লিউটিও...        economy\n",
       "1  ইউরোপিয়ান ফুটবলে বয়ে একদিকে সংবাদমাধ্যমগুলো নে...         sports\n",
       "2  বিজেপির নেতৃত্বে ভারতের উত্তর প্রদেশ শুরু বিভি...  international\n",
       "3  নারায়ণগঞ্জের সোনারগাঁ উপজেলার সরকারি প্রাথমিক...          state\n",
       "4  ছাই ছাই ধুলো ধুলো আধ্যাত্মিক ব্যবহৃত বাক্যের অ...         sports"
      ]
     },
     "execution_count": 9,
     "metadata": {},
     "output_type": "execute_result"
    }
   ],
   "source": [
    "train_data_full.head()"
   ]
  },
  {
   "cell_type": "code",
   "execution_count": null,
   "metadata": {
    "colab": {
     "base_uri": "https://localhost:8080/"
    },
    "executionInfo": {
     "elapsed": 12,
     "status": "ok",
     "timestamp": 1634623691054,
     "user": {
      "displayName": "Md. Mahmudul Hasan Shahin",
      "photoUrl": "https://lh3.googleusercontent.com/a-/AOh14GhRx95iiEiz_iqtQvGSnh1i2sStbv9xjQgHDQcM=s64",
      "userId": "04675764273122559940"
     },
     "user_tz": -360
    },
    "id": "Vm93FOsV2gcM",
    "outputId": "ae185861-0d68-4951-fcb9-fc16f6585fe4"
   },
   "outputs": [
    {
     "data": {
      "text/plain": [
       "90118"
      ]
     },
     "execution_count": 10,
     "metadata": {},
     "output_type": "execute_result"
    }
   ],
   "source": [
    "len(train_data_full)"
   ]
  },
  {
   "cell_type": "code",
   "execution_count": null,
   "metadata": {
    "id": "zUEF7n71eOD5"
   },
   "outputs": [],
   "source": [
    "from sklearn import model_selection, preprocessing, linear_model, naive_bayes, metrics, svm"
   ]
  },
  {
   "cell_type": "markdown",
   "metadata": {
    "id": "p7BZFvRyS5h3"
   },
   "source": [
    "# Feature Convertion"
   ]
  },
  {
   "cell_type": "markdown",
   "metadata": {
    "id": "fzbbHuZPTA1n"
   },
   "source": [
    "## Tf-Idf Conversion of X"
   ]
  },
  {
   "cell_type": "code",
   "execution_count": null,
   "metadata": {
    "id": "rBJ-rFHJhlIx"
   },
   "outputs": [],
   "source": [
    "tfidf_vect = TfidfVectorizer(analyzer='word', token_pattern=r'\\w{1,}', max_features=5000)\n",
    "tfidf_vect.fit(train_data_full['cleanText'])\n",
    "\n",
    "xtrain_tfidf = tfidf_vect.transform(train_data_full['cleanText'])\n",
    "xvalid_tfidf = tfidf_vect.transform(test_data_full['cleanText'])"
   ]
  },
  {
   "cell_type": "markdown",
   "metadata": {
    "id": "1d2xJA6LTHMP"
   },
   "source": [
    "## Labelencode Conversion of Y"
   ]
  },
  {
   "cell_type": "code",
   "execution_count": null,
   "metadata": {
    "id": "FuLEwwu6eYFR"
   },
   "outputs": [],
   "source": [
    "encoder = preprocessing.LabelEncoder()\n",
    "\n",
    "train_y = encoder.fit_transform(train_data_full['category'])\n",
    "valid_y = encoder.fit_transform(test_data_full['category'])"
   ]
  },
  {
   "cell_type": "code",
   "execution_count": null,
   "metadata": {
    "colab": {
     "base_uri": "https://localhost:8080/"
    },
    "executionInfo": {
     "elapsed": 9,
     "status": "ok",
     "timestamp": 1634623760350,
     "user": {
      "displayName": "Md. Mahmudul Hasan Shahin",
      "photoUrl": "https://lh3.googleusercontent.com/a-/AOh14GhRx95iiEiz_iqtQvGSnh1i2sStbv9xjQgHDQcM=s64",
      "userId": "04675764273122559940"
     },
     "user_tz": -360
    },
    "id": "ILNpMB-pLgAa",
    "outputId": "04331956-47e8-454b-ca02-f65fd9bf34c7"
   },
   "outputs": [
    {
     "name": "stdout",
     "output_type": "stream",
     "text": [
      "=============================================\n",
      "                Train Data\n",
      "=============================================\n",
      "Shape of Train Text     :  (90118, 5000)\n",
      "Shape of Train Category :  (90118,)\n",
      "=============================================\n",
      "                Test Data\n",
      "=============================================\n",
      "Shape of Test Text      :  (90233, 5000)\n",
      "Shape of Test Category  :  (90233,)\n",
      "=============================================\n"
     ]
    }
   ],
   "source": [
    "print('=============================================')\n",
    "print('                Train Data')\n",
    "print('=============================================')\n",
    "print('Shape of Train Text     : ',np.shape(xtrain_tfidf))\n",
    "print('Shape of Train Category : ',np.shape(train_y))\n",
    "print('=============================================')\n",
    "print('                Test Data')\n",
    "print('=============================================')\n",
    "print('Shape of Test Text      : ',np.shape(xvalid_tfidf))\n",
    "print('Shape of Test Category  : ',np.shape(valid_y))\n",
    "\n",
    "print('=============================================')"
   ]
  },
  {
   "cell_type": "markdown",
   "metadata": {
    "id": "2ys2Kb9STa5_"
   },
   "source": [
    "# Train Function Pipeline"
   ]
  },
  {
   "cell_type": "code",
   "execution_count": null,
   "metadata": {
    "id": "9kATKchq28Ck"
   },
   "outputs": [],
   "source": [
    "def train_model(classifier, feature_vector_train, label,feature_vector_valid, y_valid, is_neural_net=False):\n",
    "  clf_name = classifier.__class__.__name__\n",
    "  classifier.fit(feature_vector_train, label)\n",
    "  predictions = classifier.predict(feature_vector_valid)\n",
    "\n",
    "  try:\n",
    "    y_pred_decision_tree = classifier.predict_proba(feature_vector_valid)\n",
    "    loss = log_loss(y_valid, y_pred_decision_tree)\n",
    "  except:\n",
    "    predict_proba_dist = classifier.decision_function(feature_vector_valid)\n",
    "    def softmax(x):\n",
    "      e_x = np.exp(x - np.max(x))\n",
    "      return e_x / e_x.sum(axis=0)\n",
    "\n",
    "    y_pred_decision_tree = []\n",
    "    for eachArr in predict_proba_dist:\n",
    "        y_pred_decision_tree.append(softmax(eachArr))\n",
    "\n",
    "    loss = log_loss(y_valid, y_pred_decision_tree)\n",
    "\n",
    "  try:\n",
    "    precision, recall, fscore, support = score(y_valid, predictions)\n",
    "  except:\n",
    "    print('Performance matrix not provided')\n",
    "\n",
    "  acc = metrics.accuracy_score(predictions, y_valid)\n",
    "  print('{:<25}'.format(str(clf_name)),\": \", \" Accuracy: {:.2%}\".format(acc),\" Loss: {:.2%}\".format(loss))\n",
    "\n",
    "  filename = 'Saved_Model/'+str(clf_name)+'_model.pkl'\n",
    "  pickle.dump(classifier, open(filename, 'wb'))\n",
    "  print('Model Saved ... ')\n",
    "\n",
    "  #return clf_name, acc, loss\n",
    "  return clf_name, acc, loss, precision, recall, fscore, support\n",
    "\n",
    "  "
   ]
  },
  {
   "cell_type": "markdown",
   "metadata": {
    "id": "pplRK4cvTkNn"
   },
   "source": [
    "# Start Training"
   ]
  },
  {
   "cell_type": "code",
   "execution_count": null,
   "metadata": {
    "colab": {
     "base_uri": "https://localhost:8080/"
    },
    "executionInfo": {
     "elapsed": 2747645,
     "status": "ok",
     "timestamp": 1634627748743,
     "user": {
      "displayName": "Md. Mahmudul Hasan Shahin",
      "photoUrl": "https://lh3.googleusercontent.com/a-/AOh14GhRx95iiEiz_iqtQvGSnh1i2sStbv9xjQgHDQcM=s64",
      "userId": "04675764273122559940"
     },
     "user_tz": -360
    },
    "id": "X1cQ1JTlESxh",
    "outputId": "794deeb4-72f8-44f5-b302-922f3cd86f59"
   },
   "outputs": [
    {
     "name": "stdout",
     "output_type": "stream",
     "text": [
      "MultinomialNB             :   Accuracy: 87.17%  Loss: 65.97%\n",
      "Model Saved ... \n",
      "      Classifier Matrix_Name   economy  ...    sports     state  technology\n",
      "0  MultinomialNB    F1_Score  0.841909  ...  0.951626  0.827203    0.825391\n",
      "\n",
      "[1 rows x 9 columns]\n"
     ]
    },
    {
     "name": "stderr",
     "output_type": "stream",
     "text": [
      "/usr/local/lib/python3.7/dist-packages/sklearn/linear_model/_logistic.py:940: ConvergenceWarning: lbfgs failed to converge (status=1):\n",
      "STOP: TOTAL NO. of ITERATIONS REACHED LIMIT.\n",
      "\n",
      "Increase the number of iterations (max_iter) or scale the data as shown in:\n",
      "    https://scikit-learn.org/stable/modules/preprocessing.html\n",
      "Please also refer to the documentation for alternative solver options:\n",
      "    https://scikit-learn.org/stable/modules/linear_model.html#logistic-regression\n",
      "  extra_warning_msg=_LOGISTIC_SOLVER_CONVERGENCE_MSG)\n"
     ]
    },
    {
     "name": "stdout",
     "output_type": "stream",
     "text": [
      "LogisticRegression        :   Accuracy: 89.54%  Loss: 35.47%\n",
      "Model Saved ... \n",
      "           Classifier Matrix_Name   economy  ...    sports     state  technology\n",
      "0  LogisticRegression    F1_Score  0.867301  ...  0.958553  0.859118    0.853629\n",
      "\n",
      "[1 rows x 9 columns]\n",
      "LinearSVC                 :   Accuracy: 90.89%  Loss: 56.39%\n",
      "Model Saved ... \n",
      "  Classifier Matrix_Name  economy  ...    sports    state  technology\n",
      "0  LinearSVC    F1_Score     0.88  ...  0.968211  0.87322    0.868059\n",
      "\n",
      "[1 rows x 9 columns]\n",
      "DecisionTreeClassifier    :   Accuracy: 69.47%  Loss: 1054.32%\n",
      "Model Saved ... \n",
      "               Classifier Matrix_Name   economy  ...    sports     state  technology\n",
      "0  DecisionTreeClassifier    F1_Score  0.625189  ...  0.812182  0.655206    0.613075\n",
      "\n",
      "[1 rows x 9 columns]\n",
      "KNeighborsClassifier      :   Accuracy: 83.92%  Loss: 201.83%\n",
      "Model Saved ... \n",
      "             Classifier Matrix_Name   economy  ...    sports     state  technology\n",
      "0  KNeighborsClassifier    F1_Score  0.829711  ...  0.910247  0.757921    0.803359\n",
      "\n",
      "[1 rows x 9 columns]\n"
     ]
    }
   ],
   "source": [
    "classifiers_stack = [\n",
    "                     naive_bayes.MultinomialNB(alpha=0.2),\n",
    "                     linear_model.LogisticRegression(),\n",
    "                     LinearSVC(),\n",
    "                     DecisionTreeClassifier(),\n",
    "                     KNeighborsClassifier(),\n",
    "]\n",
    "\n",
    "acc_loss = pd.DataFrame(columns=[\"Classifier\", \"Accuracy\", \"Log Loss\"])\n",
    "column_for_matrix = [\"Classifier\",\"Matrix_Name\", \"economy\", \"education\", \"entertainment\", \"international\", \"sports\",\"state\", \"technology\"]\n",
    "performance_matrix = pd.DataFrame(columns=column_for_matrix)\n",
    "\n",
    "for classifier in classifiers_stack:\n",
    "\n",
    "  clf_name, acc, loss, precision, recall, fscore, support = train_model(classifier,xtrain_tfidf, train_y, xvalid_tfidf, valid_y)\n",
    "\n",
    "  temp = pd.DataFrame([[clf_name, \"F1_Score\", fscore[0],fscore[1],fscore[2],fscore[3],fscore[4],fscore[5],fscore[6]]], columns=column_for_matrix)\n",
    "  print(temp)\n",
    "  performance_matrix = performance_matrix.append(temp)\n",
    "\n",
    "  temp = pd.DataFrame([[clf_name, \"Precession\", precision[0],precision[1],precision[2],precision[3],precision[4],precision[5],precision[6]]], columns=column_for_matrix)\n",
    "  performance_matrix = performance_matrix.append(temp)\n",
    "\n",
    "  temp = pd.DataFrame([[clf_name, \"Recall\", recall[0],recall[1],recall[2],recall[3],recall[4],recall[5],recall[6]]], columns=column_for_matrix)\n",
    "  performance_matrix = performance_matrix.append(temp)\n",
    "\n",
    "  temp = pd.DataFrame([[clf_name, acc*100, loss]], columns=[\"Classifier\", \"Accuracy\", \"Log Loss\"])\n",
    "  acc_loss = acc_loss.append(temp)\n"
   ]
  },
  {
   "cell_type": "code",
   "execution_count": null,
   "metadata": {
    "colab": {
     "base_uri": "https://localhost:8080/",
     "height": 204
    },
    "executionInfo": {
     "elapsed": 21,
     "status": "ok",
     "timestamp": 1634627748744,
     "user": {
      "displayName": "Md. Mahmudul Hasan Shahin",
      "photoUrl": "https://lh3.googleusercontent.com/a-/AOh14GhRx95iiEiz_iqtQvGSnh1i2sStbv9xjQgHDQcM=s64",
      "userId": "04675764273122559940"
     },
     "user_tz": -360
    },
    "id": "6SHiPjwaKcXu",
    "outputId": "f826c92f-5932-4d09-e533-14ac2187f02b"
   },
   "outputs": [
    {
     "data": {
      "text/html": [
       "<div>\n",
       "<style scoped>\n",
       "    .dataframe tbody tr th:only-of-type {\n",
       "        vertical-align: middle;\n",
       "    }\n",
       "\n",
       "    .dataframe tbody tr th {\n",
       "        vertical-align: top;\n",
       "    }\n",
       "\n",
       "    .dataframe thead th {\n",
       "        text-align: right;\n",
       "    }\n",
       "</style>\n",
       "<table border=\"1\" class=\"dataframe\">\n",
       "  <thead>\n",
       "    <tr style=\"text-align: right;\">\n",
       "      <th></th>\n",
       "      <th>Classifier</th>\n",
       "      <th>Matrix_Name</th>\n",
       "      <th>economy</th>\n",
       "      <th>education</th>\n",
       "      <th>entertainment</th>\n",
       "      <th>international</th>\n",
       "      <th>sports</th>\n",
       "      <th>state</th>\n",
       "      <th>technology</th>\n",
       "    </tr>\n",
       "  </thead>\n",
       "  <tbody>\n",
       "    <tr>\n",
       "      <th>0</th>\n",
       "      <td>MultinomialNB</td>\n",
       "      <td>F1_Score</td>\n",
       "      <td>0.841909</td>\n",
       "      <td>0.842396</td>\n",
       "      <td>0.904339</td>\n",
       "      <td>0.877903</td>\n",
       "      <td>0.951626</td>\n",
       "      <td>0.827203</td>\n",
       "      <td>0.825391</td>\n",
       "    </tr>\n",
       "    <tr>\n",
       "      <th>0</th>\n",
       "      <td>MultinomialNB</td>\n",
       "      <td>Precession</td>\n",
       "      <td>0.838678</td>\n",
       "      <td>0.900550</td>\n",
       "      <td>0.885641</td>\n",
       "      <td>0.841154</td>\n",
       "      <td>0.961699</td>\n",
       "      <td>0.808544</td>\n",
       "      <td>0.875030</td>\n",
       "    </tr>\n",
       "    <tr>\n",
       "      <th>0</th>\n",
       "      <td>MultinomialNB</td>\n",
       "      <td>Recall</td>\n",
       "      <td>0.845164</td>\n",
       "      <td>0.791297</td>\n",
       "      <td>0.923844</td>\n",
       "      <td>0.918010</td>\n",
       "      <td>0.941762</td>\n",
       "      <td>0.846743</td>\n",
       "      <td>0.781082</td>\n",
       "    </tr>\n",
       "    <tr>\n",
       "      <th>0</th>\n",
       "      <td>LogisticRegression</td>\n",
       "      <td>F1_Score</td>\n",
       "      <td>0.867301</td>\n",
       "      <td>0.886915</td>\n",
       "      <td>0.921102</td>\n",
       "      <td>0.898121</td>\n",
       "      <td>0.958553</td>\n",
       "      <td>0.859118</td>\n",
       "      <td>0.853629</td>\n",
       "    </tr>\n",
       "    <tr>\n",
       "      <th>0</th>\n",
       "      <td>LogisticRegression</td>\n",
       "      <td>Precession</td>\n",
       "      <td>0.865753</td>\n",
       "      <td>0.887149</td>\n",
       "      <td>0.917061</td>\n",
       "      <td>0.883452</td>\n",
       "      <td>0.961380</td>\n",
       "      <td>0.868995</td>\n",
       "      <td>0.865402</td>\n",
       "    </tr>\n",
       "  </tbody>\n",
       "</table>\n",
       "</div>"
      ],
      "text/plain": [
       "           Classifier Matrix_Name   economy  ...    sports     state  technology\n",
       "0       MultinomialNB    F1_Score  0.841909  ...  0.951626  0.827203    0.825391\n",
       "0       MultinomialNB  Precession  0.838678  ...  0.961699  0.808544    0.875030\n",
       "0       MultinomialNB      Recall  0.845164  ...  0.941762  0.846743    0.781082\n",
       "0  LogisticRegression    F1_Score  0.867301  ...  0.958553  0.859118    0.853629\n",
       "0  LogisticRegression  Precession  0.865753  ...  0.961380  0.868995    0.865402\n",
       "\n",
       "[5 rows x 9 columns]"
      ]
     },
     "execution_count": 32,
     "metadata": {},
     "output_type": "execute_result"
    }
   ],
   "source": [
    "performance_matrix.head()"
   ]
  },
  {
   "cell_type": "markdown",
   "metadata": {
    "id": "ggneATKdTnY-"
   },
   "source": [
    "#Performance Score saveing"
   ]
  },
  {
   "cell_type": "code",
   "execution_count": null,
   "metadata": {
    "id": "6r4Lkc2HIDXZ"
   },
   "outputs": [],
   "source": [
    "acc_loss.to_csv('Classifier_Accuracy_Loss.csv', encoding='utf-8', index=False) \n",
    "performance_matrix.to_csv('Classifier_Performance_Matrix.csv', encoding='utf-8', index=False) "
   ]
  },
  {
   "cell_type": "markdown",
   "metadata": {
    "id": "S6YWnYoZTrij"
   },
   "source": [
    "#Plot of Model accuracy"
   ]
  },
  {
   "cell_type": "code",
   "execution_count": null,
   "metadata": {
    "colab": {
     "base_uri": "https://localhost:8080/",
     "height": 392
    },
    "executionInfo": {
     "elapsed": 18,
     "status": "ok",
     "timestamp": 1634627748747,
     "user": {
      "displayName": "Md. Mahmudul Hasan Shahin",
      "photoUrl": "https://lh3.googleusercontent.com/a-/AOh14GhRx95iiEiz_iqtQvGSnh1i2sStbv9xjQgHDQcM=s64",
      "userId": "04675764273122559940"
     },
     "user_tz": -360
    },
    "id": "KpXKXnhWL7Yh",
    "outputId": "ea2b0aee-e1b6-4010-e64f-0e6a15833b95"
   },
   "outputs": [
    {
     "data": {
      "image/png": "[encoded data removed]",
      "text/plain": [
       "<Figure size 640x400 with 1 Axes>"
      ]
     },
     "metadata": {
      "needs_background": "light"
     },
     "output_type": "display_data"
    }
   ],
   "source": [
    "plt.figure(figsize=(8,5), dpi= 80)\n",
    "sns.barplot(x='Accuracy', y='Classifier', data=acc_loss, color=\"g\")\n",
    "\n",
    "plt.xlabel('Accuracy %')\n",
    "plt.title('Classifier Accuracy of Train')\n",
    "plt.show()"
   ]
  },
  {
   "cell_type": "code",
   "execution_count": null,
   "metadata": {
    "id": "CUO-MkHap4K1"
   },
   "outputs": [],
   "source": []
  }
 ],
 "metadata": {
  "colab": {
   "authorship_tag": "ABX9TyO/P+XTUn4VCcndRaPPnzXS",
   "collapsed_sections": [],
   "mount_file_id": "15yUUD-B2u8hPpJQ52fL_SuOjwL5Rt-vl",
   "name": "Classification_Algo.ipynb",
   "provenance": []
  },
  "kernelspec": {
   "display_name": "Python 3",
   "language": "python",
   "name": "python3"
  },
  "language_info": {
   "codemirror_mode": {
    "name": "ipython",
    "version": 3
   },
   "file_extension": ".py",
   "mimetype": "text/x-python",
   "name": "python",
   "nbconvert_exporter": "python",
   "pygments_lexer": "ipython3",
   "version": "3.8.8"
  }
 },
 "nbformat": 4,
 "nbformat_minor": 4
}
