{
 "cells": [
  {
   "cell_type": "code",
   "execution_count": null,
   "metadata": {
    "colab": {
     "base_uri": "https://localhost:8080/"
    },
    "executionInfo": {
     "elapsed": 3314,
     "status": "ok",
     "timestamp": 1634696076332,
     "user": {
      "displayName": "Md. Mahmudul Hasan Shahin",
      "photoUrl": "https://lh3.googleusercontent.com/a-/AOh14GhRx95iiEiz_iqtQvGSnh1i2sStbv9xjQgHDQcM=s64",
      "userId": "04675764273122559940"
     },
     "user_tz": -360
    },
    "id": "J0_wKTivRWaL",
    "outputId": "bbdcbc2b-8872-4461-bed7-b71e3154ecf4"
   },
   "outputs": [
    {
     "name": "stdout",
     "output_type": "stream",
     "text": [
      "/content/drive/MyDrive/Google Colab/NLP/Technometrics\n",
      "Bi-LSTM_V1.ipynb           Predict_Text.ipynb\n",
      "Bi-LSTM_V2.ipynb           \u001b[0m\u001b[01;34mPretrained_Models\u001b[0m/\n",
      "Classification_Algo.ipynb  \u001b[01;34mProcess_Data\u001b[0m/\n",
      "\u001b[01;34mDataset\u001b[0m/                   \u001b[01;34mSaved_Model\u001b[0m/\n",
      "External.ipynb             Technometrics_Preprocessing.ipynb\n"
     ]
    }
   ],
   "source": [
    "%%script false\n",
    "%cd /content/drive/MyDrive/Google Colab/NLP/Technometrics\n",
    "%ls"
   ]
  },
  {
   "cell_type": "code",
   "execution_count": null,
   "metadata": {
    "colab": {
     "base_uri": "https://localhost:8080/"
    },
    "executionInfo": {
     "elapsed": 10,
     "status": "ok",
     "timestamp": 1634696076333,
     "user": {
      "displayName": "Md. Mahmudul Hasan Shahin",
      "photoUrl": "https://lh3.googleusercontent.com/a-/AOh14GhRx95iiEiz_iqtQvGSnh1i2sStbv9xjQgHDQcM=s64",
      "userId": "04675764273122559940"
     },
     "user_tz": -360
    },
    "id": "IvNsiNosikT-",
    "outputId": "9706b430-b53b-4d82-e086-a34799b2daeb"
   },
   "outputs": [
    {
     "name": "stdout",
     "output_type": "stream",
     "text": [
      " Biderectional_alt.h5               KNeighborsClassifier_model.pkl\n",
      " Biderectional_alt.npy              LinearSVC_model.pkl\n",
      " Biderectional.h5                   LogisticRegression_model.pkl\n",
      " Biderectional_hist.npy             MultinomialNB_model.pkl\n",
      " \u001b[0m\u001b[01;34mBiderectional_model\u001b[0m/               Performance_Matrix.csv\n",
      " Classifier_Performance.csv         \u001b[01;34mstore\u001b[0m/\n",
      " DecisionTreeClassifier_model.pkl  \u001b[01;34m'Techno Matrix'\u001b[0m/\n"
     ]
    }
   ],
   "source": [
    "%ls Saved_Model"
   ]
  },
  {
   "cell_type": "code",
   "execution_count": null,
   "metadata": {
    "colab": {
     "base_uri": "https://localhost:8080/"
    },
    "executionInfo": {
     "elapsed": 40048,
     "status": "ok",
     "timestamp": 1634699757448,
     "user": {
      "displayName": "Md. Mahmudul Hasan Shahin",
      "photoUrl": "https://lh3.googleusercontent.com/a-/AOh14GhRx95iiEiz_iqtQvGSnh1i2sStbv9xjQgHDQcM=s64",
      "userId": "04675764273122559940"
     },
     "user_tz": -360
    },
    "id": "gScVHrfqwXCq",
    "outputId": "e38c67f5-30ed-42fd-8745-04acd3bad363"
   },
   "outputs": [
    {
     "name": "stderr",
     "output_type": "stream",
     "text": [
      "\u001b[1m\u001b[36m           Text Classifier Tool Options\u001b[0m\n"
     ]
    },
    {
     "name": "stdout",
     "output_type": "stream",
     "text": [
      "\u001b[33m=====================================================\u001b[0m\n",
      "1) -1 Exit from the System\n",
      "2) 1 for Bi-LSTM_V1 to Activate\n",
      "2) 2 for Bi-LSTM_V2 to Activate\n",
      "\u001b[33m=====================================================\u001b[0m\n",
      "\u001b[32m=====================================================\u001b[0m\n",
      "               Model Arc. :  \u001b[31mBi-LSTM_V1\u001b[0m\n",
      "\u001b[33m                 [Start Classify]\u001b[0m\n",
      "\u001b[32m=====================================================\u001b[0m\n",
      "Input Text (str) : অথচ আইসিসির বর্ষসেরা ওয়ানডে দলে নেই সাকিব\n",
      "\u001b[34mঅথচ আইসিসির বর্ষসেরা ওয়ানডে দলে নেই সাকিব\u001b[0m\n",
      "                  Class is : \u001b[31mSPORTS\u001b[0m\n",
      "\u001b[32m=====================================================\u001b[0m\n",
      "Input Text (str) : ঢাকাকে যানজটমুক্ত করার প্রতিশ্রুতি আতিকুলের\n",
      "\u001b[34mঢাকাকে যানজটমুক্ত করার প্রতিশ্রুতি আতিকুলের\u001b[0m\n",
      "                  Class is : \u001b[31mSTATE\u001b[0m\n",
      "\u001b[32m=====================================================\u001b[0m\n",
      "Input Text (str) : অস্কার মনোনয়ন বাদ গেল না কোনো ছবি\n",
      "\u001b[34mঅস্কার মনোনয়ন বাদ গেল না কোনো ছবি\u001b[0m\n",
      "                  Class is : \u001b[31mENTERTAINMENT\u001b[0m\n",
      "\u001b[32m=====================================================\u001b[0m\n",
      "Input Text (str) : -1\n",
      "\u001b[33m=====================================================\u001b[0m\n",
      "\u001b[32m                !!! Thaknk You !!! \u001b[0m\n",
      "\u001b[33m=====================================================\u001b[0m\n"
     ]
    }
   ],
   "source": [
    "import sys\n",
    "import pandas as pd\n",
    "import numpy as np\n",
    "from gensim.models import FastText\n",
    "%matplotlib inline\n",
    "import tensorflow as tf\n",
    "from termcolor import colored, cprint\n",
    "\n",
    "class Text_Classification:\n",
    "  def __init__(self):\n",
    "    self.stop_words = pd.read_csv('/Dataset/bangla_stop_word_471.csv')\n",
    "    self.fasttext_model = FastText.load('Pretrained_Models/fasttext_model_20/fasttext_model.model')\n",
    "    self.Text_Classifier_model = tf.keras.models.load_model('Saved_Model/Biderectional.h5')\n",
    "\n",
    "  def change_model(self, num):\n",
    "    if num == 2: self.Text_Classifier_model = tf.keras.models.load_model('Saved_Model/Biderectional_alt.h5') ;return 'Bi-LSTM_V2'\n",
    "    if num == 1: self.Text_Classifier_model = tf.keras.models.load_model('Saved_Model/Biderectional.h5') ;return 'Bi-LSTM_V1'\n",
    "\n",
    "  def find_class(self, text_vector):\n",
    "    classes = ['economy', 'education', 'entertainment', 'international', 'sports','state', 'technology']\n",
    "    text_arr = np.asarray(text_vector)\n",
    "    output_values = list(self.Text_Classifier_model.predict(text_arr)[0])\n",
    "    return classes[output_values.index(max(output_values))]\n",
    "\n",
    "  def input_preprocessing(self, input_text):\n",
    "    input_text = [word for word in input_text.split() if not word in self.stop_words]\n",
    "    if len(input_text) > 350:\n",
    "      return 'Please enter 350 word as input'\n",
    "\n",
    "    text_vector = []\n",
    "    word_to_vec_len = 350                                           \n",
    "    k = len(input_text)\n",
    "    temp = []\n",
    "    for j in range(k):\n",
    "      try:\n",
    "        vector_a = self.fasttext_model.wv.get_vector(input_text[j])\n",
    "        temp.append(vector_a)\n",
    "      except:\n",
    "        temp.append(np.zeros((20,), dtype=np.float32))\n",
    "        continue\n",
    "    if k < word_to_vec_len:                                           \n",
    "      k = word_to_vec_len - k;\n",
    "      for p in range(k):\n",
    "        temp.append(np.zeros((20,), dtype=np.float32))\n",
    "    text_vector.append(temp)\n",
    "    \n",
    "    return self.find_class(text_vector).upper()\n",
    "\n",
    "if __name__ == \"__main__\":\n",
    "  Classification = Text_Classification()\n",
    "  cprint(\"           Text Classifier Tool Options\", 'cyan', attrs=['bold'], file=sys.stderr)\n",
    "  def option_info(model_v):\n",
    "    print(colored(\"=====================================================\", 'yellow'))\n",
    "    print(\"1) -1 Exit from the System\\n2) 1 for Bi-LSTM_V1 to Activate\\n2) 2 for Bi-LSTM_V2 to Activate\")\n",
    "    print(colored(\"=====================================================\", 'yellow'))\n",
    "    print(colored(\"=====================================================\", 'green'))\n",
    "    print(\"               Model Arc. : \",colored(model_v, 'red'))\n",
    "    print(colored(\"                 [Start Classify]\", 'yellow'))\n",
    "    print(colored(\"=====================================================\", 'green'))\n",
    "  option_info('Bi-LSTM_V1')\n",
    "  while 1:\n",
    "    input_text = input('Input Text (str) : ')\n",
    "    if input_text == '-1': \n",
    "      print(colored(\"=====================================================\", 'yellow'))\n",
    "      print(colored('                !!! Thaknk You !!! ','green')); \n",
    "      print(colored(\"=====================================================\", 'yellow'))\n",
    "      break\n",
    "\n",
    "    if input_text == '1': \n",
    "      option_info(Classification.change_model(int(input_text)))\n",
    "    elif input_text == '2': \n",
    "      option_info(Classification.change_model(int(input_text)))\n",
    "    else:\n",
    "      output_class = Classification.input_preprocessing(input_text)\n",
    "      print(colored(input_text, 'blue'))\n",
    "      print('                  Class is :',colored(output_class, 'red'))\n",
    "      print(colored(\"=====================================================\", 'green'))"
   ]
  },
  {
   "cell_type": "code",
   "execution_count": null,
   "metadata": {
    "id": "ezkyMkepW_0f"
   },
   "outputs": [],
   "source": [
    "input_text = 'অথচ আইসিসির বর্ষসেরা ওয়ানডে দলে নেই সাকিব'\n",
    "input_text = 'ঢাকাকে যানজটমুক্ত করার প্রতিশ্রুতি আতিকুলের'\n",
    "input_text = 'অস্কার মনোনয়ন বাদ গেল না কোনো ছবি'"
   ]
  },
  {
   "cell_type": "markdown",
   "metadata": {
    "id": "YKKBciqnmRh-"
   },
   "source": [
    "# Model Performance"
   ]
  },
  {
   "cell_type": "code",
   "execution_count": null,
   "metadata": {
    "id": "kUwEd9kKkcUk"
   },
   "outputs": [],
   "source": [
    "import seaborn as sns\n",
    "import matplotlib.pyplot as plt\n",
    "sns.set_theme(style=\"ticks\", color_codes=True)\n",
    "\n",
    "%matplotlib inline"
   ]
  },
  {
   "cell_type": "code",
   "execution_count": null,
   "metadata": {
    "id": "1gqRe5WK3npp"
   },
   "outputs": [],
   "source": [
    "history = np.load('Saved_Model/Biderectional_alt.npy',allow_pickle=True).tolist()"
   ]
  },
  {
   "cell_type": "code",
   "execution_count": null,
   "metadata": {
    "colab": {
     "base_uri": "https://localhost:8080/",
     "height": 322
    },
    "executionInfo": {
     "elapsed": 8,
     "status": "ok",
     "timestamp": 1634696233424,
     "user": {
      "displayName": "Md. Mahmudul Hasan Shahin",
      "photoUrl": "https://lh3.googleusercontent.com/a-/AOh14GhRx95iiEiz_iqtQvGSnh1i2sStbv9xjQgHDQcM=s64",
      "userId": "04675764273122559940"
     },
     "user_tz": -360
    },
    "id": "KRu8n2FwnCWd",
    "outputId": "47fb6620-cca5-4619-8751-c025de9bfb2e"
   },
   "outputs": [
    {
     "data": {
      "image/png": "[encoded data removed]",
      "text/plain": [
       "<Figure size 576x360 with 1 Axes>"
      ]
     },
     "metadata": {
      "needs_background": "light"
     },
     "output_type": "display_data"
    }
   ],
   "source": [
    "pd.DataFrame(history).plot(figsize=(8,5))\n",
    "plt.show()"
   ]
  },
  {
   "cell_type": "code",
   "execution_count": null,
   "metadata": {
    "colab": {
     "base_uri": "https://localhost:8080/",
     "height": 301
    },
    "executionInfo": {
     "elapsed": 794,
     "status": "ok",
     "timestamp": 1634696237421,
     "user": {
      "displayName": "Md. Mahmudul Hasan Shahin",
      "photoUrl": "https://lh3.googleusercontent.com/a-/AOh14GhRx95iiEiz_iqtQvGSnh1i2sStbv9xjQgHDQcM=s64",
      "userId": "04675764273122559940"
     },
     "user_tz": -360
    },
    "id": "hpvco3mKjhaG",
    "outputId": "c2ea3c33-e8e3-4875-8221-714987aff688"
   },
   "outputs": [
    {
     "data": {
      "image/png": "[encoded data removed]",
      "text/plain": [
       "<Figure size 432x288 with 1 Axes>"
      ]
     },
     "metadata": {
      "needs_background": "light"
     },
     "output_type": "display_data"
    }
   ],
   "source": [
    "plt.plot(history['accuracy'])\n",
    "plt.plot(history['val_accuracy'])\n",
    "plt.title('Model Accuracy')\n",
    "plt.ylabel('accuracy')\n",
    "plt.xlabel('epoch')\n",
    "plt.legend(['train', 'val'], loc='upper left')\n",
    "plt.show()"
   ]
  },
  {
   "cell_type": "code",
   "execution_count": null,
   "metadata": {
    "colab": {
     "base_uri": "https://localhost:8080/",
     "height": 301
    },
    "executionInfo": {
     "elapsed": 5,
     "status": "ok",
     "timestamp": 1634696240125,
     "user": {
      "displayName": "Md. Mahmudul Hasan Shahin",
      "photoUrl": "https://lh3.googleusercontent.com/a-/AOh14GhRx95iiEiz_iqtQvGSnh1i2sStbv9xjQgHDQcM=s64",
      "userId": "04675764273122559940"
     },
     "user_tz": -360
    },
    "id": "mG3M74zoj5z8",
    "outputId": "ffe98777-0f3d-4bdf-d572-d92c349e1689"
   },
   "outputs": [
    {
     "data": {
      "image/png": "[encoded data removed]",
      "text/plain": [
       "<Figure size 432x288 with 1 Axes>"
      ]
     },
     "metadata": {
      "needs_background": "light"
     },
     "output_type": "display_data"
    }
   ],
   "source": [
    "plt.plot(history['loss'])\n",
    "plt.plot(history['val_loss'])\n",
    "plt.title('Model Loss')\n",
    "plt.ylabel('loss')\n",
    "plt.xlabel('epoch')\n",
    "plt.legend(['train', 'val'], loc='upper left')\n",
    "plt.show()"
   ]
  },
  {
   "cell_type": "markdown",
   "metadata": {
    "id": "pZMoT-OUH7tF"
   },
   "source": [
    "# Predict Text in your machine"
   ]
  },
  {
   "cell_type": "code",
   "execution_count": null,
   "metadata": {
    "colab": {
     "base_uri": "https://localhost:8080/"
    },
    "executionInfo": {
     "elapsed": 13926,
     "status": "ok",
     "timestamp": 1634700617186,
     "user": {
      "displayName": "Md. Mahmudul Hasan Shahin",
      "photoUrl": "https://lh3.googleusercontent.com/a-/AOh14GhRx95iiEiz_iqtQvGSnh1i2sStbv9xjQgHDQcM=s64",
      "userId": "04675764273122559940"
     },
     "user_tz": -360
    },
    "id": "IauLKmqtmJVk",
    "outputId": "03c8705a-b96f-4300-9ddc-1cc18982f8d2"
   },
   "outputs": [
    {
     "name": "stdout",
     "output_type": "stream",
     "text": [
      "2021-10-20 03:30:07.058481: E tensorflow/stream_executor/cuda/cuda_driver.cc:271] failed call to cuInit: CUDA_ERROR_NO_DEVICE: no CUDA-capable device is detected\n",
      "2021-10-20 03:30:07.058540: I tensorflow/stream_executor/cuda/cuda_diagnostics.cc:156] kernel driver does not appear to be running on this host (e343da74293c): /proc/driver/nvidia/version does not exist\n",
      "\u001b[1m\u001b[36m           Text Classifier Tool Options\u001b[0m\n",
      "\u001b[33m=====================================================\u001b[0m\n",
      "1) -1 Exit from the System\n",
      "2) 1 for Bi-LSTM_V1 to Activate\n",
      "2) 2 for Bi-LSTM_V2 to Activate\n",
      "\u001b[33m=====================================================\u001b[0m\n",
      "\u001b[32m=====================================================\u001b[0m\n",
      "               Model Arc. :  \u001b[31mBi-LSTM_V1\u001b[0m\n",
      "\u001b[33m                 [Start Classify]\u001b[0m\n",
      "\u001b[32m=====================================================\u001b[0m\n",
      "Input Text (str) : -1\n",
      "\u001b[33m=====================================================\u001b[0m\n",
      "\u001b[32m                !!! Thaknk You !!! \u001b[0m\n",
      "\u001b[33m=====================================================\u001b[0m\n"
     ]
    }
   ],
   "source": [
    "!python Predict_Your_Text.py"
   ]
  },
  {
   "cell_type": "code",
   "execution_count": null,
   "metadata": {
    "id": "2mJ2uJJlv3_X"
   },
   "outputs": [],
   "source": []
  }
 ],
 "metadata": {
  "colab": {
   "authorship_tag": "ABX9TyN2LtiHkOZgfqr10QO6XKNh",
   "mount_file_id": "1W50uuJ2P3CcMTMhU4QWdMnafNsi1QUI7",
   "name": "Predict_Your_Text.ipynb",
   "provenance": []
  },
  "kernelspec": {
   "display_name": "Python 3",
   "language": "python",
   "name": "python3"
  },
  "language_info": {
   "codemirror_mode": {
    "name": "ipython",
    "version": 3
   },
   "file_extension": ".py",
   "mimetype": "text/x-python",
   "name": "python",
   "nbconvert_exporter": "python",
   "pygments_lexer": "ipython3",
   "version": "3.8.8"
  }
 },
 "nbformat": 4,
 "nbformat_minor": 4
}
